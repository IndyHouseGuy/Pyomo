{
  "cells": [
    {
      "cell_type": "markdown",
      "metadata": {
        "id": "view-in-github",
        "colab_type": "text"
      },
      "source": [
        "<a href=\"https://colab.research.google.com/github/IndyHouseGuy/Pyomo/blob/main/06_cutting_stock_NO_EDITS_NO_MODIFICATIONS.ipynb\" target=\"_parent\"><img src=\"https://colab.research.google.com/assets/colab-badge.svg\" alt=\"Open In Colab\"/></a>"
      ]
    },
    {
      "cell_type": "markdown",
      "metadata": {
        "id": "_eaxyfyDjXUh"
      },
      "source": [
        "# Extra Material: Cutting Stock\n",
        "\n",
        "The cutting stock problem is familiar to anyone who has cut parts out of stock materials. In the one-dimensional case, the stock materials are available in predetermined lengths and prices. The task is to cut a specific list of parts from the stock materials. The problem is to determine which parts to cut from each piece of stock material to minimize cost. This problem applies broadly to commercial applications, including the allocation of non-physical resources like capital budgeting or resource allocation.\n",
        "\n",
        "This notebook presents several models and solution algorithms for the cutting stock problem."
      ]
    },
    {
      "cell_type": "markdown",
      "metadata": {
        "id": "3jGpqZD_lk9D"
      },
      "source": [
        "## Preamble: Install Pyomo and a solver\n",
        "\n",
        "This cell selects and verifies a global SOLVER for the notebook. In this notebook, we need both the MILO solver `HiGHS` and the MINLO solver `couenne`. We install the latter using the IDAES module and its extensions, which include the pre-compiled binary for couenne."
      ]
    },
    {
      "cell_type": "code",
      "execution_count": 1,
      "metadata": {
        "colab": {
          "base_uri": "https://localhost:8080/"
        },
        "id": "ZeoJEgORlk9E",
        "outputId": "f1e1756a-8a2c-4699-b2ed-b69f35b11c92"
      },
      "outputs": [
        {
          "output_type": "stream",
          "name": "stdout",
          "text": [
            "Getting files...\n",
            "Done\n",
            "---------------------------------------------------\n",
            "IDAES Extensions Build Versions\n",
            "===================================================\n",
            "Solvers:  vno version file found\n",
            "Library:  vno version file found\n",
            "===================================================\n"
          ]
        }
      ],
      "source": [
        "import os\n",
        "\n",
        "%pip install idaes-pse --pre >/dev/null 2>/dev/null\n",
        "%pip install highspy >/dev/null 2>/dev/null\n",
        "!idaes get-extensions --to ./bin\n",
        "\n",
        "os.environ[\"PATH\"] += \":bin\"\n",
        "\n",
        "MILO_solver = \"appsi_highs\"\n",
        "MINLO_solver = \"couenne\"\n",
        "\n",
        "import pyomo.environ as pyo\n",
        "\n",
        "MILO_SOLVER = pyo.SolverFactory(MILO_solver)\n",
        "MINLO_SOLVER = pyo.SolverFactory(MINLO_solver)\n",
        "\n",
        "assert MILO_SOLVER.available(), f\"Solver {MILO_solver} is not available.\"\n",
        "assert MINLO_SOLVER.available(), f\"Solver {MINLO_solver} is not available.\""
      ]
    },
    {
      "cell_type": "markdown",
      "metadata": {
        "id": "IYpKQkbd7fnS"
      },
      "source": [
        "## Problem formulation\n",
        "\n",
        "Consider a set ${S}$ of available stock materials that can be cut to size to produce a set of finished parts. Each stock $s\\in S$ is characterized by a length $l^S_s$, a cost $c_s$ per piece, and is available in unlimited quantity. A customer order is received to product a set of finished products $F$. Each finished product $f\\in F$ is specified by a required number $d_f$ and length $l^F_f$.\n",
        "\n",
        "The **cutting stock problem** is to find a minimum cost solution to fulfill the customer order from the stock materials. The problem is illustrated is by data for an example given in the original paper by Gilmore and Gamory (1961).\n",
        "\n",
        "**Stocks**\n",
        "\n",
        "| stocks <br> $s$ | length <br> $l^S_s$ | cost <br> $c_s$ |\n",
        "| :--: | :--: | :--: |\n",
        "| A | 5 | 6 |\n",
        "| B | 6 | 7 |\n",
        "| C | 9 |10 |\n",
        "\n",
        "**Finished Parts**\n",
        "\n",
        "| finished parts <br> $f$ | length <br> $l^F_f$ | demand <br> $d_f$ |\n",
        "| :--: | :--: | :--: |\n",
        "| S | 2 | 20 |\n",
        "| M | 3 | 10 |\n",
        "| L | 4 | 20 |\n",
        "\n",
        "This information is represented in Python as nested dictionaries where the names for stocks and finished parts are used as indices."
      ]
    },
    {
      "cell_type": "code",
      "execution_count": 2,
      "metadata": {
        "id": "rlYdfxy2lk9G"
      },
      "outputs": [],
      "source": [
        "stocks = {\n",
        "    \"A\": {\"length\": 5, \"cost\": 6},\n",
        "    \"B\": {\"length\": 6, \"cost\": 7},\n",
        "    \"C\": {\"length\": 9, \"cost\": 10},\n",
        "}\n",
        "\n",
        "finish = {\n",
        "    \"S\": {\"length\": 2, \"demand\": 20},\n",
        "    \"M\": {\"length\": 3, \"demand\": 10},\n",
        "    \"L\": {\"length\": 4, \"demand\": 20},\n",
        "}"
      ]
    },
    {
      "cell_type": "markdown",
      "metadata": {
        "id": "nu-V5mAWD_h0"
      },
      "source": [
        "## Patterns\n",
        "\n",
        "One approach to solving this problem is to create a list of all finished parts, a list of stocks for each length, and then use a set of binary decision variables to assign each finished product to a particular piece of stock. This approach will work well for a small problems, but the computational complexity scales much too rapidly with the size of the problem to be practical for business applications.\n",
        "\n",
        "To address the issue of computational complexity, in 1961 Gilmore and Gamory introduced an additional data structure for the problem that is now referred to as \"patterns\". A pattern is a list of finished parts that can be cut from a particular stock item.\n",
        "\n",
        "A pattern $p$ is specified by the stock $s_p$ assigned to the pattern and integers $a_{pf}$ that specify how many finished parts of type $f$ are cut from stock $s_p$. A pattern $p\\in P$ is feasible if\n",
        "\n",
        "$$\n",
        "\\begin{align}\n",
        "\\sum_{f\\in F}a_{pf}l^F_f  & \\leq   l^S_{s_p}\n",
        "\\end{align}\n",
        "$$\n",
        "\n",
        "The function `make_patterns` defined below produces a partial list of feasible patterns for given sets of stocks and finished parts. Each pattern is represented as dictionary that specifies an associated stock item, and a dictionary of cuts that specify the finished parts cut from the stock. The algorithm is simple, it just considers every finished parts and stock items, then reports the number of parts $f$ that can be cut from stock item $s$."
      ]
    },
    {
      "cell_type": "code",
      "execution_count": 3,
      "metadata": {
        "colab": {
          "base_uri": "https://localhost:8080/",
          "height": 173
        },
        "id": "iuXS5Lanlk9G",
        "outputId": "955cff50-106a-4b6e-87d1-ac79ca543b56"
      },
      "outputs": [
        {
          "output_type": "display_data",
          "data": {
            "text/plain": [
              "[{'stock': 'A', 'cuts': {'S': 2, 'M': 0, 'L': 0}},\n",
              " {'stock': 'B', 'cuts': {'S': 3, 'M': 0, 'L': 0}},\n",
              " {'stock': 'C', 'cuts': {'S': 4, 'M': 0, 'L': 0}},\n",
              " {'stock': 'A', 'cuts': {'S': 0, 'M': 1, 'L': 0}},\n",
              " {'stock': 'B', 'cuts': {'S': 0, 'M': 2, 'L': 0}},\n",
              " {'stock': 'C', 'cuts': {'S': 0, 'M': 3, 'L': 0}},\n",
              " {'stock': 'A', 'cuts': {'S': 0, 'M': 0, 'L': 1}},\n",
              " {'stock': 'B', 'cuts': {'S': 0, 'M': 0, 'L': 1}},\n",
              " {'stock': 'C', 'cuts': {'S': 0, 'M': 0, 'L': 2}}]"
            ]
          },
          "metadata": {}
        }
      ],
      "source": [
        "def make_patterns(stocks, finish):\n",
        "    \"\"\"\n",
        "    Generates patterns of feasible cuts from stock lengths to meet specified finish lengths.\n",
        "\n",
        "    Parameters:\n",
        "    stocks (dict): A dictionary where keys are stock identifiers and values are dictionaries\n",
        "                   with key 'length' representing the length of each stock.\n",
        "\n",
        "    finish (dict): A dictionary where keys are finish identifiers and values are dictionaries\n",
        "                   with key 'length' representing the required finish lengths.\n",
        "\n",
        "    Returns:\n",
        "    patterns (list): A list of dictionaries, where each dictionary represents a pattern of cuts.\n",
        "                   Each pattern dictionary contains 'stock' (the stock identifier) and 'cuts'\n",
        "                   (a dictionary where keys are finish identifiers and the value is the number\n",
        "                   of cuts from the stock for each finish).\n",
        "    \"\"\"\n",
        "\n",
        "    patterns = []\n",
        "    for f in finish:\n",
        "        feasible = False\n",
        "        for s in stocks:\n",
        "            # max number of f that fit on s\n",
        "            num_cuts = int(stocks[s][\"length\"] / finish[f][\"length\"])\n",
        "\n",
        "            # make pattern and add to list of patterns\n",
        "            if num_cuts > 0:\n",
        "                feasible = True\n",
        "                cuts_dict = {key: 0 for key in finish.keys()}\n",
        "                cuts_dict[f] = num_cuts\n",
        "                patterns.append({\"stock\": s, \"cuts\": cuts_dict})\n",
        "\n",
        "        if not feasible:\n",
        "            print(f\"No feasible pattern was found for {f}\")\n",
        "            return []\n",
        "\n",
        "    return patterns\n",
        "\n",
        "\n",
        "patterns = make_patterns(stocks, finish)\n",
        "display(patterns)"
      ]
    },
    {
      "cell_type": "markdown",
      "metadata": {
        "id": "fGOlnwlQlk9H"
      },
      "source": [
        "The function `plot_patterns`, defined below, displays a graphical depiction of the list of patterns."
      ]
    },
    {
      "cell_type": "code",
      "execution_count": 4,
      "metadata": {
        "colab": {
          "base_uri": "https://localhost:8080/",
          "height": 372
        },
        "id": "sSWUPCx0lk9I",
        "outputId": "eb917890-3709-427a-c2f6-f99ffa4b5c63"
      },
      "outputs": [
        {
          "output_type": "display_data",
          "data": {
            "text/plain": [
              "<Figure size 800x365 with 1 Axes>"
            ],
            "image/png": "[encoded data removed]"
          },
          "metadata": {}
        }
      ],
      "source": [
        "import matplotlib.pyplot as plt\n",
        "\n",
        "\n",
        "def plot_patterns(stocks, finish, patterns):\n",
        "    # set up figure parameters\n",
        "    lw = 0.6\n",
        "    cmap = plt.get_cmap(\"tab10\")\n",
        "    colors = {f: cmap(k % 10) for k, f in enumerate(finish.keys())}\n",
        "    fig, ax = plt.subplots(1, 1, figsize=(8, 0.05 + 0.4 * len(patterns)))\n",
        "\n",
        "    for k, pattern in enumerate(patterns):\n",
        "        # get stock key/name\n",
        "        s = pattern[\"stock\"]\n",
        "\n",
        "        # plot stock as a grey background\n",
        "        y_lo = (-k - lw / 2, -k - lw / 2)\n",
        "        y_hi = (-k + lw / 2, -k + lw / 2)\n",
        "        ax.fill_between((0, stocks[s][\"length\"]), y_lo, y_hi, color=\"k\", alpha=0.1)\n",
        "\n",
        "        # overlay finished parts\n",
        "        xa = 0\n",
        "        for f, n in pattern[\"cuts\"].items():\n",
        "            for j in range(n):\n",
        "                xb = xa + finish[f][\"length\"]\n",
        "                ax.fill_between((xa, xb), y_lo, y_hi, alpha=1.0, color=colors[f])\n",
        "                ax.plot((xb, xb), (y_lo[0], y_hi[0]), \"w\", lw=1, solid_capstyle=\"butt\")\n",
        "                ax.text(\n",
        "                    (xa + xb) / 2,\n",
        "                    -k,\n",
        "                    f,\n",
        "                    ha=\"center\",\n",
        "                    va=\"center\",\n",
        "                    fontsize=6,\n",
        "                    color=\"w\",\n",
        "                    weight=\"bold\",\n",
        "                )\n",
        "                xa = xb\n",
        "\n",
        "    # clean up axes\n",
        "    ax.spines[[\"top\", \"right\", \"left\", \"bottom\"]].set_visible(False)\n",
        "    ax.set_yticks(\n",
        "        range(0, -len(patterns), -1),\n",
        "        [pattern[\"stock\"] for pattern in patterns],\n",
        "        fontsize=8,\n",
        "    )\n",
        "    plt.tight_layout()\n",
        "\n",
        "    return ax\n",
        "\n",
        "\n",
        "ax = plot_patterns(stocks, finish, patterns)"
      ]
    },
    {
      "cell_type": "markdown",
      "metadata": {
        "id": "Oqinfv1flk9I"
      },
      "source": [
        "## Optimal cutting using known patterns\n",
        "\n",
        "Given a list of patterns, the optimization problem is to compute how many copies of each pattern should be cut to meet the demand for finished parts at minimum cost.\n",
        "\n",
        "Let the index $s_p$ denote the stock specified by pattern $p$, and let $x_{s_p}$ denote the number pieces of stock $s_p$ is used. For a given list of patterns, the minimum cost optimization problem is a mixed integer linear optimization (MILO) subject to meeting demand constraints for each finished item.\n",
        "\n",
        "$$\n",
        "\\begin{align}\n",
        "\\min\\quad & \\sum_{p\\in P} c_{s_p} x_{s_p} \\\\\n",
        "\\text{s.t.}\\quad\n",
        "& \\sum_{p\\in P}a_{pf} x_{s_p} \\geq d_f && \\forall f\\in F\\\\\n",
        "& x_{s_p}  \\in \\mathbb{Z}_+ && \\forall p\\in P\\\\\n",
        "\\end{align}\n",
        "$$\n",
        "\n",
        "The following cell is a Pyomo implementation of this optimization model."
      ]
    },
    {
      "cell_type": "code",
      "execution_count": 5,
      "metadata": {
        "id": "I-bmw1NVlk9I"
      },
      "outputs": [],
      "source": [
        "# Given dictionaries of stocks and finished parts, and a list of patterns,\n",
        "# find minimum choice of patterns to cut\n",
        "\n",
        "\n",
        "def cut_patterns(stocks, finish, patterns):\n",
        "    m = pyo.ConcreteModel()\n",
        "\n",
        "    m.S = pyo.Set(initialize=list(stocks.keys()))\n",
        "    m.F = pyo.Set(initialize=list(finish.keys()))\n",
        "    m.P = pyo.RangeSet(0, len(patterns) - 1)\n",
        "\n",
        "    m.x = pyo.Var(m.P, domain=pyo.NonNegativeIntegers)\n",
        "\n",
        "    @m.Objective(sense=pyo.minimize)\n",
        "    def cost(m):\n",
        "        s = {p: patterns[p][\"stock\"] for p in m.P}\n",
        "        c = {p: stocks[s[p]][\"cost\"] for p in m.P}\n",
        "        return sum(c[p] * m.x[p] for p in m.P)\n",
        "\n",
        "    @m.Constraint(m.F)\n",
        "    def demand(m, f):\n",
        "        a = {p: patterns[p][\"cuts\"][f] for p in m.P}\n",
        "        return sum(a[p] * m.x[p] for p in m.P) >= finish[f][\"demand\"]\n",
        "\n",
        "    MILO_SOLVER.solve(m)\n",
        "\n",
        "    return [m.x[p]() for p in m.P], m.cost()\n",
        "\n",
        "\n",
        "x, cost = cut_patterns(stocks, finish, patterns)"
      ]
    },
    {
      "cell_type": "markdown",
      "metadata": {
        "id": "oJfilpHwlk9I"
      },
      "source": [
        "The following function `plot_nonzero_patterns` is wrapper for `plot_patterns` that removes unused patterns from graphic, shows the number of times each pattern is used, and adds cost to the title."
      ]
    },
    {
      "cell_type": "code",
      "execution_count": 6,
      "metadata": {
        "colab": {
          "base_uri": "https://localhost:8080/",
          "height": 231
        },
        "id": "9iAHNJeWlk9I",
        "outputId": "e055abba-4d43-4fec-9906-6fd6651b6258"
      },
      "outputs": [
        {
          "output_type": "display_data",
          "data": {
            "text/plain": [
              "<Figure size 800x205 with 1 Axes>"
            ],
            "image/png": "[encoded data removed]"
          },
          "metadata": {}
        }
      ],
      "source": [
        "def plot_nonzero_patterns(stocks, finish, patterns, x, cost):\n",
        "    k = [j for j, _ in enumerate(x) if _ > 0]\n",
        "    ax = plot_patterns(stocks, finish, [patterns[j] for j in k])\n",
        "    ticks = [\n",
        "        f\"{round(x[k])} x {pattern['stock']}\"\n",
        "        for k, pattern in enumerate(patterns)\n",
        "        if x[k] > 0\n",
        "    ]\n",
        "    ax.set_yticks(range(0, -len(k), -1), ticks, fontsize=8)\n",
        "    ax.set_title(f\"Cost = {round(cost,2)}\", fontsize=10)\n",
        "    return ax\n",
        "\n",
        "\n",
        "ax = plot_nonzero_patterns(stocks, finish, patterns, x, cost)"
      ]
    },
    {
      "cell_type": "markdown",
      "metadata": {
        "id": "A6uTh5kplk9J"
      },
      "source": [
        "## Cutting Stock Problem: Bilinear reformulation\n",
        "\n",
        "The `cut_patterns` model requires a known list of cutting patterns. This works well if the patterns comprising an optimal solution to the problem are known. But since they are not initially known, an optimization model is needed that simultaneously solves for an optimal patterns and the cutting list.\n",
        "\n",
        "Let binary variable $b_{sp}\\in\\mathbb{Z}_2$ denote the assignment of stock $s$ to pattern $p$, and let $P = 0, 1, \\ldots, N_p-1$ index a list of patterns. For sufficiently large $N_p$, an optimal solution to the stock cutting problem is given by the model\n",
        "\n",
        "$$\n",
        "\\begin{align}\n",
        "\\min\\quad & \\sum_{s\\in S} \\sum_{p\\in P} c_{s} b_{sp} x_{p} \\\\\n",
        "\\text{s.t.}\\quad\n",
        "& \\sum_{s\\in S}b_{sp} =  1 && \\forall p\\in P \\\\\n",
        "& \\sum_{f\\in F}a_{fp}l^F_f  \\leq \\sum_{s\\in S} b_{sp} l^S_s && \\forall p\\in P \\\\\n",
        "& \\sum_{p\\in P}a_{fp} x_{p} \\geq d_f && \\forall f\\in F\\\\\n",
        "& a_{fp}, x_p  \\in \\mathbb{Z}_+ && \\forall f\\in F,  \\forall p\\in P \\\\\n",
        "& b_{sp} \\in \\mathbb{Z}_2 && \\forall s\\in S,  \\forall p\\in P \\\\\n",
        "\\end{align}\n",
        "$$\n",
        "\n",
        "Since there is no ordering of the patterns, without loss of generality an additional constraint can be added to reduce the symmetries present in the problem.\n",
        "\n",
        "$$\n",
        "\\begin{align}\n",
        "& x_{p-1} \\geq x_{p} && \\forall p\\in P, p > 0\n",
        "\\end{align}\n",
        "$$\n",
        "\n",
        "This is a challenging optimization problem with a cost objective that is bilinear with respect to the the decision variables $b_{sp}$ and $x_p$, and a set of constraints for the demand of finished parts that are bilinear in the decision variables $a_{fp}$ and $x_p$. Because the constraints are a lower bound on a positive sum of bilinear terms, a simple substitution to create rotated quadratic cones fails to produce a convex program.\n",
        "\n",
        "The following model is a direct translation of the bilinear optimization model into Pyomo. A solution is attempted using a mixed-integer nonlinear optimization (MINLO) solver."
      ]
    },
    {
      "cell_type": "code",
      "execution_count": 7,
      "metadata": {
        "colab": {
          "base_uri": "https://localhost:8080/",
          "height": 495
        },
        "id": "pLjrUZ-_lk9J",
        "outputId": "ba90d4cd-60f0-4a1f-f5b5-e66fac6612b7"
      },
      "outputs": [
        {
          "output_type": "stream",
          "name": "stderr",
          "text": [
            "ERROR:pyomo.opt:Solver (asl) returned non-zero return code (-6)\n",
            "ERROR:pyomo.opt:Solver log:\n",
            "Couenne 0.5.8 -- an Open-Source solver for Mixed Integer Nonlinear Optimization\n",
            "Mailing list: couenne@list.coin-or.org\n",
            "Instructions: http://www.coin-or.org/Couenne\n",
            "munmap_chunk(): invalid pointer\n",
            "couenne: \n"
          ]
        },
        {
          "output_type": "error",
          "ename": "ApplicationError",
          "evalue": "ignored",
          "traceback": [
            "\u001b[0;31m---------------------------------------------------------------------------\u001b[0m",
            "\u001b[0;31mApplicationError\u001b[0m                          Traceback (most recent call last)",
            "\u001b[0;32m<ipython-input-7-36f29ff97f2b>\u001b[0m in \u001b[0;36m<cell line: 66>\u001b[0;34m()\u001b[0m\n\u001b[1;32m     64\u001b[0m \u001b[0;34m\u001b[0m\u001b[0m\n\u001b[1;32m     65\u001b[0m \u001b[0;34m\u001b[0m\u001b[0m\n\u001b[0;32m---> 66\u001b[0;31m \u001b[0mpatterns\u001b[0m\u001b[0;34m,\u001b[0m \u001b[0mx\u001b[0m\u001b[0;34m,\u001b[0m \u001b[0mcost\u001b[0m \u001b[0;34m=\u001b[0m \u001b[0mbilinear_cut_stock\u001b[0m\u001b[0;34m(\u001b[0m\u001b[0mstocks\u001b[0m\u001b[0;34m,\u001b[0m \u001b[0mfinish\u001b[0m\u001b[0;34m,\u001b[0m \u001b[0;36m2\u001b[0m\u001b[0;34m)\u001b[0m\u001b[0;34m\u001b[0m\u001b[0;34m\u001b[0m\u001b[0m\n\u001b[0m\u001b[1;32m     67\u001b[0m \u001b[0mplot_nonzero_patterns\u001b[0m\u001b[0;34m(\u001b[0m\u001b[0mstocks\u001b[0m\u001b[0;34m,\u001b[0m \u001b[0mfinish\u001b[0m\u001b[0;34m,\u001b[0m \u001b[0mpatterns\u001b[0m\u001b[0;34m,\u001b[0m \u001b[0mx\u001b[0m\u001b[0;34m,\u001b[0m \u001b[0mcost\u001b[0m\u001b[0;34m)\u001b[0m\u001b[0;34m\u001b[0m\u001b[0;34m\u001b[0m\u001b[0m\n",
            "\u001b[0;32m<ipython-input-7-36f29ff97f2b>\u001b[0m in \u001b[0;36mbilinear_cut_stock\u001b[0;34m(stocks, finish, Np)\u001b[0m\n\u001b[1;32m     52\u001b[0m         \u001b[0;32mreturn\u001b[0m \u001b[0msum\u001b[0m\u001b[0;34m(\u001b[0m\u001b[0mm\u001b[0m\u001b[0;34m.\u001b[0m\u001b[0mx\u001b[0m\u001b[0;34m[\u001b[0m\u001b[0mp\u001b[0m\u001b[0;34m]\u001b[0m \u001b[0;32mfor\u001b[0m \u001b[0mp\u001b[0m \u001b[0;32min\u001b[0m \u001b[0mm\u001b[0m\u001b[0;34m.\u001b[0m\u001b[0mP\u001b[0m\u001b[0;34m)\u001b[0m \u001b[0;34m<=\u001b[0m \u001b[0mf_total_demand\u001b[0m\u001b[0;34m\u001b[0m\u001b[0;34m\u001b[0m\u001b[0m\n\u001b[1;32m     53\u001b[0m \u001b[0;34m\u001b[0m\u001b[0m\n\u001b[0;32m---> 54\u001b[0;31m     \u001b[0mMINLO_SOLVER\u001b[0m\u001b[0;34m.\u001b[0m\u001b[0msolve\u001b[0m\u001b[0;34m(\u001b[0m\u001b[0mm\u001b[0m\u001b[0;34m)\u001b[0m\u001b[0;34m\u001b[0m\u001b[0;34m\u001b[0m\u001b[0m\n\u001b[0m\u001b[1;32m     55\u001b[0m \u001b[0;34m\u001b[0m\u001b[0m\n\u001b[1;32m     56\u001b[0m     \u001b[0mcost\u001b[0m \u001b[0;34m=\u001b[0m \u001b[0mm\u001b[0m\u001b[0;34m.\u001b[0m\u001b[0mcost\u001b[0m\u001b[0;34m(\u001b[0m\u001b[0;34m)\u001b[0m\u001b[0;34m\u001b[0m\u001b[0;34m\u001b[0m\u001b[0m\n",
            "\u001b[0;32m/usr/local/lib/python3.10/dist-packages/pyomo/opt/base/solvers.py\u001b[0m in \u001b[0;36msolve\u001b[0;34m(self, *args, **kwds)\u001b[0m\n\u001b[1;32m    625\u001b[0m                 \u001b[0;32melif\u001b[0m \u001b[0mhasattr\u001b[0m\u001b[0;34m(\u001b[0m\u001b[0m_status\u001b[0m\u001b[0;34m,\u001b[0m \u001b[0;34m'log'\u001b[0m\u001b[0;34m)\u001b[0m \u001b[0;32mand\u001b[0m \u001b[0m_status\u001b[0m\u001b[0;34m.\u001b[0m\u001b[0mlog\u001b[0m\u001b[0;34m:\u001b[0m\u001b[0;34m\u001b[0m\u001b[0;34m\u001b[0m\u001b[0m\n\u001b[1;32m    626\u001b[0m                     \u001b[0mlogger\u001b[0m\u001b[0;34m.\u001b[0m\u001b[0merror\u001b[0m\u001b[0;34m(\u001b[0m\u001b[0;34m\"Solver log:\\n\"\u001b[0m \u001b[0;34m+\u001b[0m \u001b[0mstr\u001b[0m\u001b[0;34m(\u001b[0m\u001b[0m_status\u001b[0m\u001b[0;34m.\u001b[0m\u001b[0mlog\u001b[0m\u001b[0;34m)\u001b[0m\u001b[0;34m)\u001b[0m\u001b[0;34m\u001b[0m\u001b[0;34m\u001b[0m\u001b[0m\n\u001b[0;32m--> 627\u001b[0;31m                 \u001b[0;32mraise\u001b[0m \u001b[0mApplicationError\u001b[0m\u001b[0;34m(\u001b[0m\u001b[0;34m\"Solver (%s) did not exit normally\"\u001b[0m \u001b[0;34m%\u001b[0m \u001b[0mself\u001b[0m\u001b[0;34m.\u001b[0m\u001b[0mname\u001b[0m\u001b[0;34m)\u001b[0m\u001b[0;34m\u001b[0m\u001b[0;34m\u001b[0m\u001b[0m\n\u001b[0m\u001b[1;32m    628\u001b[0m             \u001b[0msolve_completion_time\u001b[0m \u001b[0;34m=\u001b[0m \u001b[0mtime\u001b[0m\u001b[0;34m.\u001b[0m\u001b[0mtime\u001b[0m\u001b[0;34m(\u001b[0m\u001b[0;34m)\u001b[0m\u001b[0;34m\u001b[0m\u001b[0;34m\u001b[0m\u001b[0m\n\u001b[1;32m    629\u001b[0m             \u001b[0;32mif\u001b[0m \u001b[0mself\u001b[0m\u001b[0;34m.\u001b[0m\u001b[0m_report_timing\u001b[0m\u001b[0;34m:\u001b[0m\u001b[0;34m\u001b[0m\u001b[0;34m\u001b[0m\u001b[0m\n",
            "\u001b[0;31mApplicationError\u001b[0m: Solver (asl) did not exit normally"
          ]
        }
      ],
      "source": [
        "def bilinear_cut_stock(stocks, finish, Np=len(finish)):\n",
        "    m = pyo.ConcreteModel()\n",
        "\n",
        "    m.S = pyo.Set(initialize=list(stocks.keys()))\n",
        "    m.F = pyo.Set(initialize=list(finish.keys()))\n",
        "    m.P = pyo.RangeSet(0, Np - 1)\n",
        "\n",
        "    # sum of all finished parts\n",
        "    f_total_demand = max([finish[f][\"demand\"] for f in m.F])\n",
        "\n",
        "    # define a with bounded values\n",
        "    def a_bounds(m, f, p):\n",
        "        return (0, max([int(stocks[s][\"length\"] / finish[f][\"length\"]) for s in m.S]))\n",
        "\n",
        "    m.a = pyo.Var(m.F, m.P, domain=pyo.NonNegativeIntegers, bounds=a_bounds)\n",
        "    m.b = pyo.Var(m.S, m.P, domain=pyo.Binary)\n",
        "    m.x = pyo.Var(m.P, domain=pyo.NonNegativeIntegers, bounds=(0, f_total_demand))\n",
        "\n",
        "    # minimize cost\n",
        "    @m.Objective(sense=pyo.minimize)\n",
        "    def cost(m):\n",
        "        c = {s: stocks[s][\"cost\"] for s in m.S}\n",
        "        return sum(c[s] * m.b[s, p] * m.x[p] for s in m.S for p in m.P)\n",
        "\n",
        "    # assign one stock to each pattern\n",
        "    @m.Constraint(m.P)\n",
        "    def assign_each_stock_to_pattern(m, p):\n",
        "        return sum(m.b[s, p] for s in m.S) == 1\n",
        "\n",
        "    # pattern feasibility\n",
        "    @m.Constraint(m.P)\n",
        "    def feasible_pattern(m, p):\n",
        "        return sum(m.a[f, p] * finish[f][\"length\"] for f in m.F) <= sum(\n",
        "            m.b[s, p] * stocks[s][\"length\"] for s in m.S\n",
        "        )\n",
        "\n",
        "    # demand constraints\n",
        "    @m.Constraint(m.F)\n",
        "    def demand(m, f):\n",
        "        return sum(m.a[f, p] * m.x[p] for p in m.P) >= finish[f][\"demand\"]\n",
        "\n",
        "    # order the patterns to reduce symmetries\n",
        "    @m.Constraint(m.P)\n",
        "    def order(m, p):\n",
        "        if p == 0:\n",
        "            return pyo.Constraint.Skip\n",
        "        return m.x[p] >= m.x[p - 1]\n",
        "\n",
        "    # upper bound on sum of all patterns\n",
        "    @m.Constraint()\n",
        "    def max_patterns(m):\n",
        "        return sum(m.x[p] for p in m.P) <= f_total_demand\n",
        "\n",
        "    MINLO_SOLVER.solve(m)\n",
        "\n",
        "    cost = m.cost()\n",
        "    x = [m.x[p]() for p in m.P]\n",
        "    patterns = []\n",
        "    for p in m.P:\n",
        "        a = {f: round(m.a[f, p]()) for f in m.F}\n",
        "        patterns.append({\"stock\": [s for s in m.S if m.b[s, p]() > 0][0], \"cuts\": a})\n",
        "\n",
        "    return patterns, x, cost\n",
        "\n",
        "\n",
        "patterns, x, cost = bilinear_cut_stock(stocks, finish, 2)\n",
        "plot_nonzero_patterns(stocks, finish, patterns, x, cost)"
      ]
    },
    {
      "cell_type": "markdown",
      "metadata": {
        "id": "IltTu9Y7lk9J"
      },
      "source": [
        "## Pattern Generation: Bilinear Model\n",
        "\n",
        "From limited testing, the bilinear model for the cutting stock problem appears to work well for small data sets, but does not scale well for larger problem instances, at least for the solvers included in the testing. This shouldn't be surprising given the non-convex nature of the problem, the exclusive use of integer and binary decision variables, and a high degree of symmetry in the model equations.\n",
        "\n",
        "So rather than attempt to solve the full problem all at once, the following model assumes an initial list of patterns has been determined, perhaps using the `make_patterns` function defined above, then attempts to generate one more pattern that further reduces the objective function. The result remains a non-convex, bilinear optimization problem, but with fewer binary decision variables and at most one bilinear term in the objective and constraints.\n",
        "\n",
        "$$\n",
        "\\begin{align}\n",
        "\\min\\quad & \\sum_{p\\in P} c_{s_p} x_{s_p} + x' \\sum_{s\\in S} b_s c_s\\\\\n",
        "\\text{s.t.}\\quad\n",
        "& \\sum_{s\\in S}b'_{s} =  1  \\\\\n",
        "& \\sum_{f\\in F}a'_{f}l^F_f  \\leq \\sum_{s\\in S} b'_{s} l^S_s  \\\\\n",
        "& \\sum_{p\\in P}a_{fp} x_{s_p}  + a'_f x'\\geq d_f && \\forall f\\in F\\\\\n",
        "& a'_{f}, x_p  \\in \\mathbb{Z}_+ && \\forall f\\in F,  \\forall p\\in P \\\\\n",
        "& b'_{s} \\in \\mathbb{Z}_2 && \\forall s\\in S \\\\\n",
        "\\end{align}\n",
        "$$\n",
        "\n",
        "The function `generate_pattern_bilinear` is a direct Pyomo implementation that uses a MINLO solver to create one additional feasible pattern that could be added to the list of known patterns."
      ]
    },
    {
      "cell_type": "code",
      "execution_count": 8,
      "metadata": {
        "id": "3snh0bXblk9J"
      },
      "outputs": [],
      "source": [
        "def generate_pattern_bilinear(stocks, finish, patterns):\n",
        "    m = pyo.ConcreteModel()\n",
        "\n",
        "    m.S = pyo.Set(initialize=list(stocks.keys()))\n",
        "    m.F = pyo.Set(initialize=list(finish.keys()))\n",
        "    m.P = pyo.RangeSet(0, len(patterns) - 1)\n",
        "\n",
        "    m.x = pyo.Var(m.P, domain=pyo.NonNegativeReals)\n",
        "    m.xp = pyo.Var(domain=pyo.NonNegativeReals)\n",
        "\n",
        "    def a_bounds(m, f):\n",
        "        return (0, max([int(stocks[s][\"length\"] / finish[f][\"length\"]) for s in m.S]))\n",
        "\n",
        "    m.ap = pyo.Var(m.F, domain=pyo.NonNegativeIntegers, bounds=a_bounds)\n",
        "    m.bp = pyo.Var(m.S, domain=pyo.Binary)\n",
        "\n",
        "    @m.Objective(sense=pyo.minimize)\n",
        "    def cost(m):\n",
        "        s = {p: patterns[p][\"stock\"] for p in m.P}\n",
        "        c = {p: stocks[s[p]][\"cost\"] for p in m.P}\n",
        "        return sum(c[p] * m.x[p] for p in m.P) + m.xp * sum(\n",
        "            m.bp[s] * stocks[s][\"cost\"] for s in m.S\n",
        "        )\n",
        "\n",
        "    @m.Constraint()\n",
        "    def sum_to_one(m):\n",
        "        return sum(m.bp[s] for s in m.S) == 1\n",
        "\n",
        "    @m.Constraint()\n",
        "    def add_pattern(m):\n",
        "        return sum(m.ap[f] * finish[f][\"length\"] for f in m.F) <= sum(\n",
        "            m.bp[s] * stocks[s][\"length\"] for s in m.S\n",
        "        )\n",
        "\n",
        "    @m.Constraint(m.F)\n",
        "    def demand(m, f):\n",
        "        return (\n",
        "            sum(patterns[p][\"cuts\"][f] * m.x[p] for p in m.P) + m.ap[f] * m.xp\n",
        "            >= finish[f][\"demand\"]\n",
        "        )\n",
        "\n",
        "    MINLO_SOLVER.solve(m)\n",
        "\n",
        "    new_pattern = {\n",
        "        \"stock\": [s for s in m.S if m.bp[s]() > 0.5][0],\n",
        "        \"cuts\": {f: round(m.ap[f]()) for f in m.F},\n",
        "    }\n",
        "\n",
        "    return new_pattern"
      ]
    },
    {
      "cell_type": "code",
      "execution_count": 9,
      "metadata": {
        "colab": {
          "base_uri": "https://localhost:8080/"
        },
        "id": "snmHSDkYlk9J",
        "outputId": "7561db0b-3084-42e4-f956-bf75d0ec9d9f"
      },
      "outputs": [
        {
          "output_type": "execute_result",
          "data": {
            "text/plain": [
              "{'stock': 'C', 'cuts': {'S': 1, 'M': 1, 'L': 1}}"
            ]
          },
          "metadata": {},
          "execution_count": 9
        }
      ],
      "source": [
        "stocks = {\n",
        "    \"A\": {\"length\": 5, \"cost\": 6},\n",
        "    \"B\": {\"length\": 6, \"cost\": 7},\n",
        "    \"C\": {\"length\": 9, \"cost\": 10},\n",
        "}\n",
        "\n",
        "finish = {\n",
        "    \"S\": {\"length\": 2, \"demand\": 20},\n",
        "    \"M\": {\"length\": 3, \"demand\": 10},\n",
        "    \"L\": {\"length\": 4, \"demand\": 20},\n",
        "}\n",
        "\n",
        "patterns = make_patterns(stocks, finish)\n",
        "generate_pattern_bilinear(stocks, finish, patterns)"
      ]
    },
    {
      "cell_type": "markdown",
      "metadata": {
        "id": "VrCWl198lk9J"
      },
      "source": [
        "## Pattern Generation: Linear Dual\n",
        "\n",
        "A common approach to pattern generation for stock cutting begins by relaxing the MILO optimization problem with known patterns. The integer variables $x_{s_p}$ are relaxed to non-negative reals.\n",
        "\n",
        "$$\n",
        "\\begin{align}\n",
        "\\min\\quad & \\sum_{p\\in P} c_{s_p} x_{s_p} \\\\\n",
        "\\text{s.t.}\\quad\n",
        "& \\sum_{p\\in P}a_{pf} x_{s_p} \\geq d_f && \\forall f\\in F\\\\\n",
        "& x_{s_p}  \\in \\mathbb{R}_+ && \\forall p\\in P\\\\\n",
        "\\end{align}\n",
        "$$\n",
        "\n",
        "Let $\\pi_f \\geq 0$ be the dual variables associated with the demand constraints. A large positive value $\\pi_f$ suggests a high value for including finished part $f$ in a new pattern. This motivates a set of dual optimization problems where the objective is to construct a new patterns that maximizes the the marginal value of each stock $s\\in S$.\n",
        "\n",
        "$$\n",
        "\\begin{align}\n",
        "V_s = \\max\\quad & \\left(\\sum_{f\\in F} \\pi_{f} a'_{sf}\\right) - c_s \\\\\n",
        "\\text{s.t.}\\quad\n",
        "& \\sum_{f\\in F}l^F_f a'_{sf} \\leq l^S_s && \\\\\n",
        "& a'_{sf}  \\in \\mathbb{Z}_+ && \\forall f\\in F\\\\\n",
        "\\end{align}\n",
        "$$\n",
        "\n",
        "The pattern demonstrating the largest return $V_s$ is returned as a candidate to add the list of patterns."
      ]
    },
    {
      "cell_type": "code",
      "execution_count": 10,
      "metadata": {
        "id": "rGYjP14Wlk9K"
      },
      "outputs": [],
      "source": [
        "import pyomo.environ as pyo\n",
        "\n",
        "\n",
        "def generate_pattern_dual(stocks, finish, patterns):\n",
        "    m = pyo.ConcreteModel()\n",
        "\n",
        "    m.S = pyo.Set(initialize=list(stocks.keys()))\n",
        "    m.F = pyo.Set(initialize=list(finish.keys()))\n",
        "    m.P = pyo.RangeSet(0, len(patterns) - 1)\n",
        "\n",
        "    m.x = pyo.Var(m.P, domain=pyo.NonNegativeReals)\n",
        "\n",
        "    @m.Objective(sense=pyo.minimize)\n",
        "    def cost(m):\n",
        "        s = {p: patterns[p][\"stock\"] for p in m.P}\n",
        "        c = {p: stocks[s[p]][\"cost\"] for p in m.P}\n",
        "        return sum(c[p] * m.x[p] for p in m.P)\n",
        "\n",
        "    @m.Constraint(m.F)\n",
        "    def demand(m, f):\n",
        "        a = {p: patterns[p][\"cuts\"][f] for p in m.P}\n",
        "        return sum(a[p] * m.x[p] for p in m.P) >= finish[f][\"demand\"]\n",
        "\n",
        "    # solve and get duals\n",
        "    m.dual = pyo.Suffix(direction=pyo.Suffix.IMPORT)\n",
        "    MILO_SOLVER.solve(m)\n",
        "\n",
        "    # solve for reduced cost for each stock\n",
        "    @m.Block(m.S)\n",
        "    def subprob(b, s):\n",
        "        m = b.model()\n",
        "        b.a = pyo.Var(m.F, domain=pyo.NonNegativeIntegers)\n",
        "\n",
        "        @b.Objective(sense=pyo.maximize)\n",
        "        def marginal_value(b):\n",
        "            return sum(b.a[f] * m.dual[m.demand[f]] for f in m.F)\n",
        "\n",
        "        @b.Constraint()\n",
        "        def stock_length(b):\n",
        "            return sum(b.a[f] * finish[f][\"length\"] for f in m.F) <= stocks[s][\"length\"]\n",
        "\n",
        "        MILO_SOLVER.solve(b)\n",
        "\n",
        "        return b\n",
        "\n",
        "    reduced_value = [m.subprob[s].marginal_value() - stocks[s][\"cost\"] for s in m.S]\n",
        "    s = list(m.S)[reduced_value.index(max(reduced_value))]\n",
        "\n",
        "    return {\"stock\": s, \"cuts\": {f: round(m.subprob[s].a[f]()) for f in m.F}}"
      ]
    },
    {
      "cell_type": "code",
      "execution_count": 11,
      "metadata": {
        "colab": {
          "base_uri": "https://localhost:8080/",
          "height": 391
        },
        "id": "Tb831sJolk9K",
        "outputId": "1d665f10-8166-4c48-f3da-7e83f331f99e"
      },
      "outputs": [
        {
          "output_type": "stream",
          "name": "stderr",
          "text": [
            "ERROR:pyomo.core:Constructing component 'subprob' from data=None failed:\n",
            "AttributeError: '_BlockData' object has no attribute 'solutions'\n"
          ]
        },
        {
          "output_type": "error",
          "ename": "AttributeError",
          "evalue": "ignored",
          "traceback": [
            "\u001b[0;31m---------------------------------------------------------------------------\u001b[0m",
            "\u001b[0;31mAttributeError\u001b[0m                            Traceback (most recent call last)",
            "\u001b[0;32m<ipython-input-11-328126a76a9f>\u001b[0m in \u001b[0;36m<cell line: 14>\u001b[0;34m()\u001b[0m\n\u001b[1;32m     12\u001b[0m \u001b[0;34m\u001b[0m\u001b[0m\n\u001b[1;32m     13\u001b[0m \u001b[0mpatterns\u001b[0m \u001b[0;34m=\u001b[0m \u001b[0mmake_patterns\u001b[0m\u001b[0;34m(\u001b[0m\u001b[0mstocks\u001b[0m\u001b[0;34m,\u001b[0m \u001b[0mfinish\u001b[0m\u001b[0;34m)\u001b[0m\u001b[0;34m\u001b[0m\u001b[0;34m\u001b[0m\u001b[0m\n\u001b[0;32m---> 14\u001b[0;31m \u001b[0mgenerate_pattern_dual\u001b[0m\u001b[0;34m(\u001b[0m\u001b[0mstocks\u001b[0m\u001b[0;34m,\u001b[0m \u001b[0mfinish\u001b[0m\u001b[0;34m,\u001b[0m \u001b[0mpatterns\u001b[0m\u001b[0;34m)\u001b[0m\u001b[0;34m\u001b[0m\u001b[0;34m\u001b[0m\u001b[0m\n\u001b[0m",
            "\u001b[0;32m<ipython-input-10-391604e0eb49>\u001b[0m in \u001b[0;36mgenerate_pattern_dual\u001b[0;34m(stocks, finish, patterns)\u001b[0m\n\u001b[1;32m     28\u001b[0m     \u001b[0;31m# solve for reduced cost for each stock\u001b[0m\u001b[0;34m\u001b[0m\u001b[0;34m\u001b[0m\u001b[0m\n\u001b[1;32m     29\u001b[0m     \u001b[0;34m@\u001b[0m\u001b[0mm\u001b[0m\u001b[0;34m.\u001b[0m\u001b[0mBlock\u001b[0m\u001b[0;34m(\u001b[0m\u001b[0mm\u001b[0m\u001b[0;34m.\u001b[0m\u001b[0mS\u001b[0m\u001b[0;34m)\u001b[0m\u001b[0;34m\u001b[0m\u001b[0;34m\u001b[0m\u001b[0m\n\u001b[0;32m---> 30\u001b[0;31m     \u001b[0;32mdef\u001b[0m \u001b[0msubprob\u001b[0m\u001b[0;34m(\u001b[0m\u001b[0mb\u001b[0m\u001b[0;34m,\u001b[0m \u001b[0ms\u001b[0m\u001b[0;34m)\u001b[0m\u001b[0;34m:\u001b[0m\u001b[0;34m\u001b[0m\u001b[0;34m\u001b[0m\u001b[0m\n\u001b[0m\u001b[1;32m     31\u001b[0m         \u001b[0mm\u001b[0m \u001b[0;34m=\u001b[0m \u001b[0mb\u001b[0m\u001b[0;34m.\u001b[0m\u001b[0mmodel\u001b[0m\u001b[0;34m(\u001b[0m\u001b[0;34m)\u001b[0m\u001b[0;34m\u001b[0m\u001b[0;34m\u001b[0m\u001b[0m\n\u001b[1;32m     32\u001b[0m         \u001b[0mb\u001b[0m\u001b[0;34m.\u001b[0m\u001b[0ma\u001b[0m \u001b[0;34m=\u001b[0m \u001b[0mpyo\u001b[0m\u001b[0;34m.\u001b[0m\u001b[0mVar\u001b[0m\u001b[0;34m(\u001b[0m\u001b[0mm\u001b[0m\u001b[0;34m.\u001b[0m\u001b[0mF\u001b[0m\u001b[0;34m,\u001b[0m \u001b[0mdomain\u001b[0m\u001b[0;34m=\u001b[0m\u001b[0mpyo\u001b[0m\u001b[0;34m.\u001b[0m\u001b[0mNonNegativeIntegers\u001b[0m\u001b[0;34m)\u001b[0m\u001b[0;34m\u001b[0m\u001b[0;34m\u001b[0m\u001b[0m\n",
            "\u001b[0;32m/usr/local/lib/python3.10/dist-packages/pyomo/core/base/block.py\u001b[0m in \u001b[0;36m__call__\u001b[0;34m(self, rule)\u001b[0m\n\u001b[1;32m     85\u001b[0m \u001b[0;34m\u001b[0m\u001b[0m\n\u001b[1;32m     86\u001b[0m     \u001b[0;32mdef\u001b[0m \u001b[0m__call__\u001b[0m\u001b[0;34m(\u001b[0m\u001b[0mself\u001b[0m\u001b[0;34m,\u001b[0m \u001b[0mrule\u001b[0m\u001b[0;34m)\u001b[0m\u001b[0;34m:\u001b[0m\u001b[0;34m\u001b[0m\u001b[0;34m\u001b[0m\u001b[0m\n\u001b[0;32m---> 87\u001b[0;31m         setattr(\n\u001b[0m\u001b[1;32m     88\u001b[0m             \u001b[0mself\u001b[0m\u001b[0;34m.\u001b[0m\u001b[0m_block\u001b[0m\u001b[0;34m,\u001b[0m\u001b[0;34m\u001b[0m\u001b[0;34m\u001b[0m\u001b[0m\n\u001b[1;32m     89\u001b[0m             \u001b[0mrule\u001b[0m\u001b[0;34m.\u001b[0m\u001b[0m__name__\u001b[0m\u001b[0;34m,\u001b[0m\u001b[0;34m\u001b[0m\u001b[0;34m\u001b[0m\u001b[0m\n",
            "\u001b[0;32m/usr/local/lib/python3.10/dist-packages/pyomo/core/base/block.py\u001b[0m in \u001b[0;36m__setattr__\u001b[0;34m(self, name, val)\u001b[0m\n\u001b[1;32m    578\u001b[0m                 \u001b[0;31m# Pyomo components are added with the add_component method.\u001b[0m\u001b[0;34m\u001b[0m\u001b[0;34m\u001b[0m\u001b[0m\n\u001b[1;32m    579\u001b[0m                 \u001b[0;31m#\u001b[0m\u001b[0;34m\u001b[0m\u001b[0;34m\u001b[0m\u001b[0m\n\u001b[0;32m--> 580\u001b[0;31m                 \u001b[0mself\u001b[0m\u001b[0;34m.\u001b[0m\u001b[0madd_component\u001b[0m\u001b[0;34m(\u001b[0m\u001b[0mname\u001b[0m\u001b[0;34m,\u001b[0m \u001b[0mval\u001b[0m\u001b[0;34m)\u001b[0m\u001b[0;34m\u001b[0m\u001b[0;34m\u001b[0m\u001b[0m\n\u001b[0m\u001b[1;32m    581\u001b[0m             \u001b[0;32melse\u001b[0m\u001b[0;34m:\u001b[0m\u001b[0;34m\u001b[0m\u001b[0;34m\u001b[0m\u001b[0m\n\u001b[1;32m    582\u001b[0m                 \u001b[0;31m#\u001b[0m\u001b[0;34m\u001b[0m\u001b[0;34m\u001b[0m\u001b[0m\n",
            "\u001b[0;32m/usr/local/lib/python3.10/dist-packages/pyomo/core/base/block.py\u001b[0m in \u001b[0;36madd_component\u001b[0;34m(self, name, val)\u001b[0m\n\u001b[1;32m   1183\u001b[0m                 )\n\u001b[1;32m   1184\u001b[0m             \u001b[0;32mtry\u001b[0m\u001b[0;34m:\u001b[0m\u001b[0;34m\u001b[0m\u001b[0;34m\u001b[0m\u001b[0m\n\u001b[0;32m-> 1185\u001b[0;31m                 \u001b[0mval\u001b[0m\u001b[0;34m.\u001b[0m\u001b[0mconstruct\u001b[0m\u001b[0;34m(\u001b[0m\u001b[0mdata\u001b[0m\u001b[0;34m)\u001b[0m\u001b[0;34m\u001b[0m\u001b[0;34m\u001b[0m\u001b[0m\n\u001b[0m\u001b[1;32m   1186\u001b[0m             \u001b[0;32mexcept\u001b[0m\u001b[0;34m:\u001b[0m\u001b[0;34m\u001b[0m\u001b[0;34m\u001b[0m\u001b[0m\n\u001b[1;32m   1187\u001b[0m                 \u001b[0merr\u001b[0m \u001b[0;34m=\u001b[0m \u001b[0msys\u001b[0m\u001b[0;34m.\u001b[0m\u001b[0mexc_info\u001b[0m\u001b[0;34m(\u001b[0m\u001b[0;34m)\u001b[0m\u001b[0;34m[\u001b[0m\u001b[0;36m1\u001b[0m\u001b[0;34m]\u001b[0m\u001b[0;34m\u001b[0m\u001b[0;34m\u001b[0m\u001b[0m\n",
            "\u001b[0;32m/usr/local/lib/python3.10/dist-packages/pyomo/core/base/block.py\u001b[0m in \u001b[0;36mconstruct\u001b[0;34m(self, data)\u001b[0m\n\u001b[1;32m   2173\u001b[0m                     \u001b[0;32mfor\u001b[0m \u001b[0m_idx\u001b[0m \u001b[0;32min\u001b[0m \u001b[0mself\u001b[0m\u001b[0;34m.\u001b[0m\u001b[0mindex_set\u001b[0m\u001b[0;34m(\u001b[0m\u001b[0;34m)\u001b[0m\u001b[0;34m:\u001b[0m\u001b[0;34m\u001b[0m\u001b[0;34m\u001b[0m\u001b[0m\n\u001b[1;32m   2174\u001b[0m                         \u001b[0;31m# Trigger population & call the rule\u001b[0m\u001b[0;34m\u001b[0m\u001b[0;34m\u001b[0m\u001b[0m\n\u001b[0;32m-> 2175\u001b[0;31m                         \u001b[0mself\u001b[0m\u001b[0;34m.\u001b[0m\u001b[0m_getitem_when_not_present\u001b[0m\u001b[0;34m(\u001b[0m\u001b[0m_idx\u001b[0m\u001b[0;34m)\u001b[0m\u001b[0;34m\u001b[0m\u001b[0;34m\u001b[0m\u001b[0m\n\u001b[0m\u001b[1;32m   2176\u001b[0m             \u001b[0;32melse\u001b[0m\u001b[0;34m:\u001b[0m\u001b[0;34m\u001b[0m\u001b[0;34m\u001b[0m\u001b[0m\n\u001b[1;32m   2177\u001b[0m                 \u001b[0;31m# We must check that any pre-existing components are\u001b[0m\u001b[0;34m\u001b[0m\u001b[0;34m\u001b[0m\u001b[0m\n",
            "\u001b[0;32m/usr/local/lib/python3.10/dist-packages/pyomo/core/base/block.py\u001b[0m in \u001b[0;36m_getitem_when_not_present\u001b[0;34m(self, idx)\u001b[0m\n\u001b[1;32m   2117\u001b[0m \u001b[0;34m\u001b[0m\u001b[0m\n\u001b[1;32m   2118\u001b[0m         \u001b[0;32mtry\u001b[0m\u001b[0;34m:\u001b[0m\u001b[0;34m\u001b[0m\u001b[0;34m\u001b[0m\u001b[0m\n\u001b[0;32m-> 2119\u001b[0;31m             \u001b[0mobj\u001b[0m \u001b[0;34m=\u001b[0m \u001b[0mself\u001b[0m\u001b[0;34m.\u001b[0m\u001b[0m_rule\u001b[0m\u001b[0;34m(\u001b[0m\u001b[0m_block\u001b[0m\u001b[0;34m,\u001b[0m \u001b[0midx\u001b[0m\u001b[0;34m)\u001b[0m\u001b[0;34m\u001b[0m\u001b[0;34m\u001b[0m\u001b[0m\n\u001b[0m\u001b[1;32m   2120\u001b[0m             \u001b[0;31m# If the user returns a block, transfer over everything\u001b[0m\u001b[0;34m\u001b[0m\u001b[0;34m\u001b[0m\u001b[0m\n\u001b[1;32m   2121\u001b[0m             \u001b[0;31m# they defined into the empty one we created.  We do\u001b[0m\u001b[0;34m\u001b[0m\u001b[0;34m\u001b[0m\u001b[0m\n",
            "\u001b[0;32m/usr/local/lib/python3.10/dist-packages/pyomo/core/base/initializer.py\u001b[0m in \u001b[0;36m__call__\u001b[0;34m(self, parent, idx)\u001b[0m\n\u001b[1;32m    314\u001b[0m             \u001b[0;32mreturn\u001b[0m \u001b[0mself\u001b[0m\u001b[0;34m.\u001b[0m\u001b[0m_fcn\u001b[0m\u001b[0;34m(\u001b[0m\u001b[0mparent\u001b[0m\u001b[0;34m,\u001b[0m \u001b[0;34m*\u001b[0m\u001b[0midx\u001b[0m\u001b[0;34m)\u001b[0m\u001b[0;34m\u001b[0m\u001b[0;34m\u001b[0m\u001b[0m\n\u001b[1;32m    315\u001b[0m         \u001b[0;32melse\u001b[0m\u001b[0;34m:\u001b[0m\u001b[0;34m\u001b[0m\u001b[0;34m\u001b[0m\u001b[0m\n\u001b[0;32m--> 316\u001b[0;31m             \u001b[0;32mreturn\u001b[0m \u001b[0mself\u001b[0m\u001b[0;34m.\u001b[0m\u001b[0m_fcn\u001b[0m\u001b[0;34m(\u001b[0m\u001b[0mparent\u001b[0m\u001b[0;34m,\u001b[0m \u001b[0midx\u001b[0m\u001b[0;34m)\u001b[0m\u001b[0;34m\u001b[0m\u001b[0;34m\u001b[0m\u001b[0m\n\u001b[0m\u001b[1;32m    317\u001b[0m \u001b[0;34m\u001b[0m\u001b[0m\n\u001b[1;32m    318\u001b[0m \u001b[0;34m\u001b[0m\u001b[0m\n",
            "\u001b[0;32m<ipython-input-10-391604e0eb49>\u001b[0m in \u001b[0;36msubprob\u001b[0;34m(b, s)\u001b[0m\n\u001b[1;32m     40\u001b[0m             \u001b[0;32mreturn\u001b[0m \u001b[0msum\u001b[0m\u001b[0;34m(\u001b[0m\u001b[0mb\u001b[0m\u001b[0;34m.\u001b[0m\u001b[0ma\u001b[0m\u001b[0;34m[\u001b[0m\u001b[0mf\u001b[0m\u001b[0;34m]\u001b[0m \u001b[0;34m*\u001b[0m \u001b[0mfinish\u001b[0m\u001b[0;34m[\u001b[0m\u001b[0mf\u001b[0m\u001b[0;34m]\u001b[0m\u001b[0;34m[\u001b[0m\u001b[0;34m\"length\"\u001b[0m\u001b[0;34m]\u001b[0m \u001b[0;32mfor\u001b[0m \u001b[0mf\u001b[0m \u001b[0;32min\u001b[0m \u001b[0mm\u001b[0m\u001b[0;34m.\u001b[0m\u001b[0mF\u001b[0m\u001b[0;34m)\u001b[0m \u001b[0;34m<=\u001b[0m \u001b[0mstocks\u001b[0m\u001b[0;34m[\u001b[0m\u001b[0ms\u001b[0m\u001b[0;34m]\u001b[0m\u001b[0;34m[\u001b[0m\u001b[0;34m\"length\"\u001b[0m\u001b[0;34m]\u001b[0m\u001b[0;34m\u001b[0m\u001b[0;34m\u001b[0m\u001b[0m\n\u001b[1;32m     41\u001b[0m \u001b[0;34m\u001b[0m\u001b[0m\n\u001b[0;32m---> 42\u001b[0;31m         \u001b[0mMILO_SOLVER\u001b[0m\u001b[0;34m.\u001b[0m\u001b[0msolve\u001b[0m\u001b[0;34m(\u001b[0m\u001b[0mb\u001b[0m\u001b[0;34m)\u001b[0m\u001b[0;34m\u001b[0m\u001b[0;34m\u001b[0m\u001b[0m\n\u001b[0m\u001b[1;32m     43\u001b[0m \u001b[0;34m\u001b[0m\u001b[0m\n\u001b[1;32m     44\u001b[0m         \u001b[0;32mreturn\u001b[0m \u001b[0mb\u001b[0m\u001b[0;34m\u001b[0m\u001b[0;34m\u001b[0m\u001b[0m\n",
            "\u001b[0;32m/usr/local/lib/python3.10/dist-packages/pyomo/contrib/appsi/base.py\u001b[0m in \u001b[0;36msolve\u001b[0;34m(self, model, tee, load_solutions, logfile, solnfile, timelimit, report_timing, solver_io, suffixes, options, keepfiles, symbolic_solver_labels)\u001b[0m\n\u001b[1;32m   1592\u001b[0m         \u001b[0msymbol_map\u001b[0m\u001b[0;34m.\u001b[0m\u001b[0maliases\u001b[0m \u001b[0;34m=\u001b[0m \u001b[0mdict\u001b[0m\u001b[0;34m(\u001b[0m\u001b[0mself\u001b[0m\u001b[0;34m.\u001b[0m\u001b[0msymbol_map\u001b[0m\u001b[0;34m.\u001b[0m\u001b[0maliases\u001b[0m\u001b[0;34m)\u001b[0m\u001b[0;34m\u001b[0m\u001b[0;34m\u001b[0m\u001b[0m\n\u001b[1;32m   1593\u001b[0m         \u001b[0msymbol_map\u001b[0m\u001b[0;34m.\u001b[0m\u001b[0mdefault_labeler\u001b[0m \u001b[0;34m=\u001b[0m \u001b[0mself\u001b[0m\u001b[0;34m.\u001b[0m\u001b[0msymbol_map\u001b[0m\u001b[0;34m.\u001b[0m\u001b[0mdefault_labeler\u001b[0m\u001b[0;34m\u001b[0m\u001b[0;34m\u001b[0m\u001b[0m\n\u001b[0;32m-> 1594\u001b[0;31m         \u001b[0mmodel\u001b[0m\u001b[0;34m.\u001b[0m\u001b[0msolutions\u001b[0m\u001b[0;34m.\u001b[0m\u001b[0madd_symbol_map\u001b[0m\u001b[0;34m(\u001b[0m\u001b[0msymbol_map\u001b[0m\u001b[0;34m)\u001b[0m\u001b[0;34m\u001b[0m\u001b[0;34m\u001b[0m\u001b[0m\n\u001b[0m\u001b[1;32m   1595\u001b[0m         \u001b[0mlegacy_results\u001b[0m\u001b[0;34m.\u001b[0m\u001b[0m_smap_id\u001b[0m \u001b[0;34m=\u001b[0m \u001b[0mid\u001b[0m\u001b[0;34m(\u001b[0m\u001b[0msymbol_map\u001b[0m\u001b[0;34m)\u001b[0m\u001b[0;34m\u001b[0m\u001b[0;34m\u001b[0m\u001b[0m\n\u001b[1;32m   1596\u001b[0m \u001b[0;34m\u001b[0m\u001b[0m\n",
            "\u001b[0;32m/usr/local/lib/python3.10/dist-packages/pyomo/core/base/block.py\u001b[0m in \u001b[0;36m__getattr__\u001b[0;34m(self, val)\u001b[0m\n\u001b[1;32m    557\u001b[0m         \u001b[0;31m# Since the base classes don't support getattr, we can just\u001b[0m\u001b[0;34m\u001b[0m\u001b[0;34m\u001b[0m\u001b[0m\n\u001b[1;32m    558\u001b[0m         \u001b[0;31m# throw the \"normal\" AttributeError\u001b[0m\u001b[0;34m\u001b[0m\u001b[0;34m\u001b[0m\u001b[0m\n\u001b[0;32m--> 559\u001b[0;31m         raise AttributeError(\n\u001b[0m\u001b[1;32m    560\u001b[0m             \u001b[0;34m\"'%s' object has no attribute '%s'\"\u001b[0m \u001b[0;34m%\u001b[0m \u001b[0;34m(\u001b[0m\u001b[0mself\u001b[0m\u001b[0;34m.\u001b[0m\u001b[0m__class__\u001b[0m\u001b[0;34m.\u001b[0m\u001b[0m__name__\u001b[0m\u001b[0;34m,\u001b[0m \u001b[0mval\u001b[0m\u001b[0;34m)\u001b[0m\u001b[0;34m\u001b[0m\u001b[0;34m\u001b[0m\u001b[0m\n\u001b[1;32m    561\u001b[0m         )\n",
            "\u001b[0;31mAttributeError\u001b[0m: '_BlockData' object has no attribute 'solutions'"
          ]
        }
      ],
      "source": [
        "stocks = {\n",
        "    \"A\": {\"length\": 5, \"cost\": 6},\n",
        "    \"B\": {\"length\": 6, \"cost\": 7},\n",
        "    \"C\": {\"length\": 9, \"cost\": 10},\n",
        "}\n",
        "\n",
        "finish = {\n",
        "    \"S\": {\"length\": 2, \"demand\": 20},\n",
        "    \"M\": {\"length\": 3, \"demand\": 10},\n",
        "    \"L\": {\"length\": 4, \"demand\": 20},\n",
        "}\n",
        "\n",
        "patterns = make_patterns(stocks, finish)\n",
        "generate_pattern_dual(stocks, finish, patterns)"
      ]
    },
    {
      "cell_type": "markdown",
      "metadata": {
        "id": "Q7fB0RBslk9K"
      },
      "source": [
        "The following cell compares the time required to generate a new pattern by the two methods for a somewhat larger data set."
      ]
    },
    {
      "cell_type": "code",
      "execution_count": 12,
      "metadata": {
        "colab": {
          "base_uri": "https://localhost:8080/",
          "height": 495
        },
        "id": "nH1T-ej4lk9K",
        "outputId": "2ef364aa-856f-4cdf-8190-2bd5137e6e5c"
      },
      "outputs": [
        {
          "output_type": "stream",
          "name": "stdout",
          "text": [
            "Testing generate_patterns_bilinear: "
          ]
        },
        {
          "output_type": "stream",
          "name": "stderr",
          "text": [
            "ERROR:pyomo.core:Constructing component 'subprob' from data=None failed:\n",
            "AttributeError: '_BlockData' object has no attribute 'solutions'\n"
          ]
        },
        {
          "output_type": "stream",
          "name": "stdout",
          "text": [
            "2.66 s ± 1.36 s per loop (mean ± std. dev. of 7 runs, 1 loop each)\n",
            "Testing generate_patterns_dual: "
          ]
        },
        {
          "output_type": "error",
          "ename": "AttributeError",
          "evalue": "ignored",
          "traceback": [
            "\u001b[0;31m---------------------------------------------------------------------------\u001b[0m",
            "\u001b[0;31mAttributeError\u001b[0m                            Traceback (most recent call last)",
            "\u001b[0;32m<ipython-input-12-1b5361dc9ca4>\u001b[0m in \u001b[0;36m<cell line: 34>\u001b[0;34m()\u001b[0m\n\u001b[1;32m     32\u001b[0m \u001b[0;34m\u001b[0m\u001b[0m\n\u001b[1;32m     33\u001b[0m \u001b[0mprint\u001b[0m\u001b[0;34m(\u001b[0m\u001b[0;34m\"Testing generate_patterns_dual: \"\u001b[0m\u001b[0;34m,\u001b[0m \u001b[0mend\u001b[0m\u001b[0;34m=\u001b[0m\u001b[0;34m\"\"\u001b[0m\u001b[0;34m)\u001b[0m\u001b[0;34m\u001b[0m\u001b[0;34m\u001b[0m\u001b[0m\n\u001b[0;32m---> 34\u001b[0;31m \u001b[0mget_ipython\u001b[0m\u001b[0;34m(\u001b[0m\u001b[0;34m)\u001b[0m\u001b[0;34m.\u001b[0m\u001b[0mrun_line_magic\u001b[0m\u001b[0;34m(\u001b[0m\u001b[0;34m'timeit'\u001b[0m\u001b[0;34m,\u001b[0m \u001b[0;34m'generate_pattern_dual(stocks, finish, patterns)'\u001b[0m\u001b[0;34m)\u001b[0m\u001b[0;34m\u001b[0m\u001b[0;34m\u001b[0m\u001b[0m\n\u001b[0m",
            "\u001b[0;32m/usr/local/lib/python3.10/dist-packages/IPython/core/interactiveshell.py\u001b[0m in \u001b[0;36mrun_line_magic\u001b[0;34m(self, magic_name, line, _stack_depth)\u001b[0m\n\u001b[1;32m   2416\u001b[0m                 \u001b[0mkwargs\u001b[0m\u001b[0;34m[\u001b[0m\u001b[0;34m'local_ns'\u001b[0m\u001b[0;34m]\u001b[0m \u001b[0;34m=\u001b[0m \u001b[0mself\u001b[0m\u001b[0;34m.\u001b[0m\u001b[0mget_local_scope\u001b[0m\u001b[0;34m(\u001b[0m\u001b[0mstack_depth\u001b[0m\u001b[0;34m)\u001b[0m\u001b[0;34m\u001b[0m\u001b[0;34m\u001b[0m\u001b[0m\n\u001b[1;32m   2417\u001b[0m             \u001b[0;32mwith\u001b[0m \u001b[0mself\u001b[0m\u001b[0;34m.\u001b[0m\u001b[0mbuiltin_trap\u001b[0m\u001b[0;34m:\u001b[0m\u001b[0;34m\u001b[0m\u001b[0;34m\u001b[0m\u001b[0m\n\u001b[0;32m-> 2418\u001b[0;31m                 \u001b[0mresult\u001b[0m \u001b[0;34m=\u001b[0m \u001b[0mfn\u001b[0m\u001b[0;34m(\u001b[0m\u001b[0;34m*\u001b[0m\u001b[0margs\u001b[0m\u001b[0;34m,\u001b[0m \u001b[0;34m**\u001b[0m\u001b[0mkwargs\u001b[0m\u001b[0;34m)\u001b[0m\u001b[0;34m\u001b[0m\u001b[0;34m\u001b[0m\u001b[0m\n\u001b[0m\u001b[1;32m   2419\u001b[0m             \u001b[0;32mreturn\u001b[0m \u001b[0mresult\u001b[0m\u001b[0;34m\u001b[0m\u001b[0;34m\u001b[0m\u001b[0m\n\u001b[1;32m   2420\u001b[0m \u001b[0;34m\u001b[0m\u001b[0m\n",
            "\u001b[0;32m<decorator-gen-53>\u001b[0m in \u001b[0;36mtimeit\u001b[0;34m(self, line, cell, local_ns)\u001b[0m\n",
            "\u001b[0;32m/usr/local/lib/python3.10/dist-packages/IPython/core/magic.py\u001b[0m in \u001b[0;36m<lambda>\u001b[0;34m(f, *a, **k)\u001b[0m\n\u001b[1;32m    185\u001b[0m     \u001b[0;31m# but it's overkill for just that one bit of state.\u001b[0m\u001b[0;34m\u001b[0m\u001b[0;34m\u001b[0m\u001b[0m\n\u001b[1;32m    186\u001b[0m     \u001b[0;32mdef\u001b[0m \u001b[0mmagic_deco\u001b[0m\u001b[0;34m(\u001b[0m\u001b[0marg\u001b[0m\u001b[0;34m)\u001b[0m\u001b[0;34m:\u001b[0m\u001b[0;34m\u001b[0m\u001b[0;34m\u001b[0m\u001b[0m\n\u001b[0;32m--> 187\u001b[0;31m         \u001b[0mcall\u001b[0m \u001b[0;34m=\u001b[0m \u001b[0;32mlambda\u001b[0m \u001b[0mf\u001b[0m\u001b[0;34m,\u001b[0m \u001b[0;34m*\u001b[0m\u001b[0ma\u001b[0m\u001b[0;34m,\u001b[0m \u001b[0;34m**\u001b[0m\u001b[0mk\u001b[0m\u001b[0;34m:\u001b[0m \u001b[0mf\u001b[0m\u001b[0;34m(\u001b[0m\u001b[0;34m*\u001b[0m\u001b[0ma\u001b[0m\u001b[0;34m,\u001b[0m \u001b[0;34m**\u001b[0m\u001b[0mk\u001b[0m\u001b[0;34m)\u001b[0m\u001b[0;34m\u001b[0m\u001b[0;34m\u001b[0m\u001b[0m\n\u001b[0m\u001b[1;32m    188\u001b[0m \u001b[0;34m\u001b[0m\u001b[0m\n\u001b[1;32m    189\u001b[0m         \u001b[0;32mif\u001b[0m \u001b[0mcallable\u001b[0m\u001b[0;34m(\u001b[0m\u001b[0marg\u001b[0m\u001b[0;34m)\u001b[0m\u001b[0;34m:\u001b[0m\u001b[0;34m\u001b[0m\u001b[0;34m\u001b[0m\u001b[0m\n",
            "\u001b[0;32m/usr/local/lib/python3.10/dist-packages/IPython/core/magics/execution.py\u001b[0m in \u001b[0;36mtimeit\u001b[0;34m(self, line, cell, local_ns)\u001b[0m\n\u001b[1;32m   1178\u001b[0m             \u001b[0;32mfor\u001b[0m \u001b[0mindex\u001b[0m \u001b[0;32min\u001b[0m \u001b[0mrange\u001b[0m\u001b[0;34m(\u001b[0m\u001b[0;36m0\u001b[0m\u001b[0;34m,\u001b[0m \u001b[0;36m10\u001b[0m\u001b[0;34m)\u001b[0m\u001b[0;34m:\u001b[0m\u001b[0;34m\u001b[0m\u001b[0;34m\u001b[0m\u001b[0m\n\u001b[1;32m   1179\u001b[0m                 \u001b[0mnumber\u001b[0m \u001b[0;34m=\u001b[0m \u001b[0;36m10\u001b[0m \u001b[0;34m**\u001b[0m \u001b[0mindex\u001b[0m\u001b[0;34m\u001b[0m\u001b[0;34m\u001b[0m\u001b[0m\n\u001b[0;32m-> 1180\u001b[0;31m                 \u001b[0mtime_number\u001b[0m \u001b[0;34m=\u001b[0m \u001b[0mtimer\u001b[0m\u001b[0;34m.\u001b[0m\u001b[0mtimeit\u001b[0m\u001b[0;34m(\u001b[0m\u001b[0mnumber\u001b[0m\u001b[0;34m)\u001b[0m\u001b[0;34m\u001b[0m\u001b[0;34m\u001b[0m\u001b[0m\n\u001b[0m\u001b[1;32m   1181\u001b[0m                 \u001b[0;32mif\u001b[0m \u001b[0mtime_number\u001b[0m \u001b[0;34m>=\u001b[0m \u001b[0;36m0.2\u001b[0m\u001b[0;34m:\u001b[0m\u001b[0;34m\u001b[0m\u001b[0;34m\u001b[0m\u001b[0m\n\u001b[1;32m   1182\u001b[0m                     \u001b[0;32mbreak\u001b[0m\u001b[0;34m\u001b[0m\u001b[0;34m\u001b[0m\u001b[0m\n",
            "\u001b[0;32m/usr/local/lib/python3.10/dist-packages/IPython/core/magics/execution.py\u001b[0m in \u001b[0;36mtimeit\u001b[0;34m(self, number)\u001b[0m\n\u001b[1;32m    167\u001b[0m         \u001b[0mgc\u001b[0m\u001b[0;34m.\u001b[0m\u001b[0mdisable\u001b[0m\u001b[0;34m(\u001b[0m\u001b[0;34m)\u001b[0m\u001b[0;34m\u001b[0m\u001b[0;34m\u001b[0m\u001b[0m\n\u001b[1;32m    168\u001b[0m         \u001b[0;32mtry\u001b[0m\u001b[0;34m:\u001b[0m\u001b[0;34m\u001b[0m\u001b[0;34m\u001b[0m\u001b[0m\n\u001b[0;32m--> 169\u001b[0;31m             \u001b[0mtiming\u001b[0m \u001b[0;34m=\u001b[0m \u001b[0mself\u001b[0m\u001b[0;34m.\u001b[0m\u001b[0minner\u001b[0m\u001b[0;34m(\u001b[0m\u001b[0mit\u001b[0m\u001b[0;34m,\u001b[0m \u001b[0mself\u001b[0m\u001b[0;34m.\u001b[0m\u001b[0mtimer\u001b[0m\u001b[0;34m)\u001b[0m\u001b[0;34m\u001b[0m\u001b[0;34m\u001b[0m\u001b[0m\n\u001b[0m\u001b[1;32m    170\u001b[0m         \u001b[0;32mfinally\u001b[0m\u001b[0;34m:\u001b[0m\u001b[0;34m\u001b[0m\u001b[0;34m\u001b[0m\u001b[0m\n\u001b[1;32m    171\u001b[0m             \u001b[0;32mif\u001b[0m \u001b[0mgcold\u001b[0m\u001b[0;34m:\u001b[0m\u001b[0;34m\u001b[0m\u001b[0;34m\u001b[0m\u001b[0m\n",
            "\u001b[0;32m<magic-timeit>\u001b[0m in \u001b[0;36minner\u001b[0;34m(_it, _timer)\u001b[0m\n",
            "\u001b[0;32m<ipython-input-10-391604e0eb49>\u001b[0m in \u001b[0;36mgenerate_pattern_dual\u001b[0;34m(stocks, finish, patterns)\u001b[0m\n\u001b[1;32m     28\u001b[0m     \u001b[0;31m# solve for reduced cost for each stock\u001b[0m\u001b[0;34m\u001b[0m\u001b[0;34m\u001b[0m\u001b[0m\n\u001b[1;32m     29\u001b[0m     \u001b[0;34m@\u001b[0m\u001b[0mm\u001b[0m\u001b[0;34m.\u001b[0m\u001b[0mBlock\u001b[0m\u001b[0;34m(\u001b[0m\u001b[0mm\u001b[0m\u001b[0;34m.\u001b[0m\u001b[0mS\u001b[0m\u001b[0;34m)\u001b[0m\u001b[0;34m\u001b[0m\u001b[0;34m\u001b[0m\u001b[0m\n\u001b[0;32m---> 30\u001b[0;31m     \u001b[0;32mdef\u001b[0m \u001b[0msubprob\u001b[0m\u001b[0;34m(\u001b[0m\u001b[0mb\u001b[0m\u001b[0;34m,\u001b[0m \u001b[0ms\u001b[0m\u001b[0;34m)\u001b[0m\u001b[0;34m:\u001b[0m\u001b[0;34m\u001b[0m\u001b[0;34m\u001b[0m\u001b[0m\n\u001b[0m\u001b[1;32m     31\u001b[0m         \u001b[0mm\u001b[0m \u001b[0;34m=\u001b[0m \u001b[0mb\u001b[0m\u001b[0;34m.\u001b[0m\u001b[0mmodel\u001b[0m\u001b[0;34m(\u001b[0m\u001b[0;34m)\u001b[0m\u001b[0;34m\u001b[0m\u001b[0;34m\u001b[0m\u001b[0m\n\u001b[1;32m     32\u001b[0m         \u001b[0mb\u001b[0m\u001b[0;34m.\u001b[0m\u001b[0ma\u001b[0m \u001b[0;34m=\u001b[0m \u001b[0mpyo\u001b[0m\u001b[0;34m.\u001b[0m\u001b[0mVar\u001b[0m\u001b[0;34m(\u001b[0m\u001b[0mm\u001b[0m\u001b[0;34m.\u001b[0m\u001b[0mF\u001b[0m\u001b[0;34m,\u001b[0m \u001b[0mdomain\u001b[0m\u001b[0;34m=\u001b[0m\u001b[0mpyo\u001b[0m\u001b[0;34m.\u001b[0m\u001b[0mNonNegativeIntegers\u001b[0m\u001b[0;34m)\u001b[0m\u001b[0;34m\u001b[0m\u001b[0;34m\u001b[0m\u001b[0m\n",
            "\u001b[0;32m/usr/local/lib/python3.10/dist-packages/pyomo/core/base/block.py\u001b[0m in \u001b[0;36m__call__\u001b[0;34m(self, rule)\u001b[0m\n\u001b[1;32m     85\u001b[0m \u001b[0;34m\u001b[0m\u001b[0m\n\u001b[1;32m     86\u001b[0m     \u001b[0;32mdef\u001b[0m \u001b[0m__call__\u001b[0m\u001b[0;34m(\u001b[0m\u001b[0mself\u001b[0m\u001b[0;34m,\u001b[0m \u001b[0mrule\u001b[0m\u001b[0;34m)\u001b[0m\u001b[0;34m:\u001b[0m\u001b[0;34m\u001b[0m\u001b[0;34m\u001b[0m\u001b[0m\n\u001b[0;32m---> 87\u001b[0;31m         setattr(\n\u001b[0m\u001b[1;32m     88\u001b[0m             \u001b[0mself\u001b[0m\u001b[0;34m.\u001b[0m\u001b[0m_block\u001b[0m\u001b[0;34m,\u001b[0m\u001b[0;34m\u001b[0m\u001b[0;34m\u001b[0m\u001b[0m\n\u001b[1;32m     89\u001b[0m             \u001b[0mrule\u001b[0m\u001b[0;34m.\u001b[0m\u001b[0m__name__\u001b[0m\u001b[0;34m,\u001b[0m\u001b[0;34m\u001b[0m\u001b[0;34m\u001b[0m\u001b[0m\n",
            "\u001b[0;32m/usr/local/lib/python3.10/dist-packages/pyomo/core/base/block.py\u001b[0m in \u001b[0;36m__setattr__\u001b[0;34m(self, name, val)\u001b[0m\n\u001b[1;32m    578\u001b[0m                 \u001b[0;31m# Pyomo components are added with the add_component method.\u001b[0m\u001b[0;34m\u001b[0m\u001b[0;34m\u001b[0m\u001b[0m\n\u001b[1;32m    579\u001b[0m                 \u001b[0;31m#\u001b[0m\u001b[0;34m\u001b[0m\u001b[0;34m\u001b[0m\u001b[0m\n\u001b[0;32m--> 580\u001b[0;31m                 \u001b[0mself\u001b[0m\u001b[0;34m.\u001b[0m\u001b[0madd_component\u001b[0m\u001b[0;34m(\u001b[0m\u001b[0mname\u001b[0m\u001b[0;34m,\u001b[0m \u001b[0mval\u001b[0m\u001b[0;34m)\u001b[0m\u001b[0;34m\u001b[0m\u001b[0;34m\u001b[0m\u001b[0m\n\u001b[0m\u001b[1;32m    581\u001b[0m             \u001b[0;32melse\u001b[0m\u001b[0;34m:\u001b[0m\u001b[0;34m\u001b[0m\u001b[0;34m\u001b[0m\u001b[0m\n\u001b[1;32m    582\u001b[0m                 \u001b[0;31m#\u001b[0m\u001b[0;34m\u001b[0m\u001b[0;34m\u001b[0m\u001b[0m\n",
            "\u001b[0;32m/usr/local/lib/python3.10/dist-packages/pyomo/core/base/block.py\u001b[0m in \u001b[0;36madd_component\u001b[0;34m(self, name, val)\u001b[0m\n\u001b[1;32m   1183\u001b[0m                 )\n\u001b[1;32m   1184\u001b[0m             \u001b[0;32mtry\u001b[0m\u001b[0;34m:\u001b[0m\u001b[0;34m\u001b[0m\u001b[0;34m\u001b[0m\u001b[0m\n\u001b[0;32m-> 1185\u001b[0;31m                 \u001b[0mval\u001b[0m\u001b[0;34m.\u001b[0m\u001b[0mconstruct\u001b[0m\u001b[0;34m(\u001b[0m\u001b[0mdata\u001b[0m\u001b[0;34m)\u001b[0m\u001b[0;34m\u001b[0m\u001b[0;34m\u001b[0m\u001b[0m\n\u001b[0m\u001b[1;32m   1186\u001b[0m             \u001b[0;32mexcept\u001b[0m\u001b[0;34m:\u001b[0m\u001b[0;34m\u001b[0m\u001b[0;34m\u001b[0m\u001b[0m\n\u001b[1;32m   1187\u001b[0m                 \u001b[0merr\u001b[0m \u001b[0;34m=\u001b[0m \u001b[0msys\u001b[0m\u001b[0;34m.\u001b[0m\u001b[0mexc_info\u001b[0m\u001b[0;34m(\u001b[0m\u001b[0;34m)\u001b[0m\u001b[0;34m[\u001b[0m\u001b[0;36m1\u001b[0m\u001b[0;34m]\u001b[0m\u001b[0;34m\u001b[0m\u001b[0;34m\u001b[0m\u001b[0m\n",
            "\u001b[0;32m/usr/local/lib/python3.10/dist-packages/pyomo/core/base/block.py\u001b[0m in \u001b[0;36mconstruct\u001b[0;34m(self, data)\u001b[0m\n\u001b[1;32m   2173\u001b[0m                     \u001b[0;32mfor\u001b[0m \u001b[0m_idx\u001b[0m \u001b[0;32min\u001b[0m \u001b[0mself\u001b[0m\u001b[0;34m.\u001b[0m\u001b[0mindex_set\u001b[0m\u001b[0;34m(\u001b[0m\u001b[0;34m)\u001b[0m\u001b[0;34m:\u001b[0m\u001b[0;34m\u001b[0m\u001b[0;34m\u001b[0m\u001b[0m\n\u001b[1;32m   2174\u001b[0m                         \u001b[0;31m# Trigger population & call the rule\u001b[0m\u001b[0;34m\u001b[0m\u001b[0;34m\u001b[0m\u001b[0m\n\u001b[0;32m-> 2175\u001b[0;31m                         \u001b[0mself\u001b[0m\u001b[0;34m.\u001b[0m\u001b[0m_getitem_when_not_present\u001b[0m\u001b[0;34m(\u001b[0m\u001b[0m_idx\u001b[0m\u001b[0;34m)\u001b[0m\u001b[0;34m\u001b[0m\u001b[0;34m\u001b[0m\u001b[0m\n\u001b[0m\u001b[1;32m   2176\u001b[0m             \u001b[0;32melse\u001b[0m\u001b[0;34m:\u001b[0m\u001b[0;34m\u001b[0m\u001b[0;34m\u001b[0m\u001b[0m\n\u001b[1;32m   2177\u001b[0m                 \u001b[0;31m# We must check that any pre-existing components are\u001b[0m\u001b[0;34m\u001b[0m\u001b[0;34m\u001b[0m\u001b[0m\n",
            "\u001b[0;32m/usr/local/lib/python3.10/dist-packages/pyomo/core/base/block.py\u001b[0m in \u001b[0;36m_getitem_when_not_present\u001b[0;34m(self, idx)\u001b[0m\n\u001b[1;32m   2117\u001b[0m \u001b[0;34m\u001b[0m\u001b[0m\n\u001b[1;32m   2118\u001b[0m         \u001b[0;32mtry\u001b[0m\u001b[0;34m:\u001b[0m\u001b[0;34m\u001b[0m\u001b[0;34m\u001b[0m\u001b[0m\n\u001b[0;32m-> 2119\u001b[0;31m             \u001b[0mobj\u001b[0m \u001b[0;34m=\u001b[0m \u001b[0mself\u001b[0m\u001b[0;34m.\u001b[0m\u001b[0m_rule\u001b[0m\u001b[0;34m(\u001b[0m\u001b[0m_block\u001b[0m\u001b[0;34m,\u001b[0m \u001b[0midx\u001b[0m\u001b[0;34m)\u001b[0m\u001b[0;34m\u001b[0m\u001b[0;34m\u001b[0m\u001b[0m\n\u001b[0m\u001b[1;32m   2120\u001b[0m             \u001b[0;31m# If the user returns a block, transfer over everything\u001b[0m\u001b[0;34m\u001b[0m\u001b[0;34m\u001b[0m\u001b[0m\n\u001b[1;32m   2121\u001b[0m             \u001b[0;31m# they defined into the empty one we created.  We do\u001b[0m\u001b[0;34m\u001b[0m\u001b[0;34m\u001b[0m\u001b[0m\n",
            "\u001b[0;32m/usr/local/lib/python3.10/dist-packages/pyomo/core/base/initializer.py\u001b[0m in \u001b[0;36m__call__\u001b[0;34m(self, parent, idx)\u001b[0m\n\u001b[1;32m    314\u001b[0m             \u001b[0;32mreturn\u001b[0m \u001b[0mself\u001b[0m\u001b[0;34m.\u001b[0m\u001b[0m_fcn\u001b[0m\u001b[0;34m(\u001b[0m\u001b[0mparent\u001b[0m\u001b[0;34m,\u001b[0m \u001b[0;34m*\u001b[0m\u001b[0midx\u001b[0m\u001b[0;34m)\u001b[0m\u001b[0;34m\u001b[0m\u001b[0;34m\u001b[0m\u001b[0m\n\u001b[1;32m    315\u001b[0m         \u001b[0;32melse\u001b[0m\u001b[0;34m:\u001b[0m\u001b[0;34m\u001b[0m\u001b[0;34m\u001b[0m\u001b[0m\n\u001b[0;32m--> 316\u001b[0;31m             \u001b[0;32mreturn\u001b[0m \u001b[0mself\u001b[0m\u001b[0;34m.\u001b[0m\u001b[0m_fcn\u001b[0m\u001b[0;34m(\u001b[0m\u001b[0mparent\u001b[0m\u001b[0;34m,\u001b[0m \u001b[0midx\u001b[0m\u001b[0;34m)\u001b[0m\u001b[0;34m\u001b[0m\u001b[0;34m\u001b[0m\u001b[0m\n\u001b[0m\u001b[1;32m    317\u001b[0m \u001b[0;34m\u001b[0m\u001b[0m\n\u001b[1;32m    318\u001b[0m \u001b[0;34m\u001b[0m\u001b[0m\n",
            "\u001b[0;32m<ipython-input-10-391604e0eb49>\u001b[0m in \u001b[0;36msubprob\u001b[0;34m(b, s)\u001b[0m\n\u001b[1;32m     40\u001b[0m             \u001b[0;32mreturn\u001b[0m \u001b[0msum\u001b[0m\u001b[0;34m(\u001b[0m\u001b[0mb\u001b[0m\u001b[0;34m.\u001b[0m\u001b[0ma\u001b[0m\u001b[0;34m[\u001b[0m\u001b[0mf\u001b[0m\u001b[0;34m]\u001b[0m \u001b[0;34m*\u001b[0m \u001b[0mfinish\u001b[0m\u001b[0;34m[\u001b[0m\u001b[0mf\u001b[0m\u001b[0;34m]\u001b[0m\u001b[0;34m[\u001b[0m\u001b[0;34m\"length\"\u001b[0m\u001b[0;34m]\u001b[0m \u001b[0;32mfor\u001b[0m \u001b[0mf\u001b[0m \u001b[0;32min\u001b[0m \u001b[0mm\u001b[0m\u001b[0;34m.\u001b[0m\u001b[0mF\u001b[0m\u001b[0;34m)\u001b[0m \u001b[0;34m<=\u001b[0m \u001b[0mstocks\u001b[0m\u001b[0;34m[\u001b[0m\u001b[0ms\u001b[0m\u001b[0;34m]\u001b[0m\u001b[0;34m[\u001b[0m\u001b[0;34m\"length\"\u001b[0m\u001b[0;34m]\u001b[0m\u001b[0;34m\u001b[0m\u001b[0;34m\u001b[0m\u001b[0m\n\u001b[1;32m     41\u001b[0m \u001b[0;34m\u001b[0m\u001b[0m\n\u001b[0;32m---> 42\u001b[0;31m         \u001b[0mMILO_SOLVER\u001b[0m\u001b[0;34m.\u001b[0m\u001b[0msolve\u001b[0m\u001b[0;34m(\u001b[0m\u001b[0mb\u001b[0m\u001b[0;34m)\u001b[0m\u001b[0;34m\u001b[0m\u001b[0;34m\u001b[0m\u001b[0m\n\u001b[0m\u001b[1;32m     43\u001b[0m \u001b[0;34m\u001b[0m\u001b[0m\n\u001b[1;32m     44\u001b[0m         \u001b[0;32mreturn\u001b[0m \u001b[0mb\u001b[0m\u001b[0;34m\u001b[0m\u001b[0;34m\u001b[0m\u001b[0m\n",
            "\u001b[0;32m/usr/local/lib/python3.10/dist-packages/pyomo/contrib/appsi/base.py\u001b[0m in \u001b[0;36msolve\u001b[0;34m(self, model, tee, load_solutions, logfile, solnfile, timelimit, report_timing, solver_io, suffixes, options, keepfiles, symbolic_solver_labels)\u001b[0m\n\u001b[1;32m   1592\u001b[0m         \u001b[0msymbol_map\u001b[0m\u001b[0;34m.\u001b[0m\u001b[0maliases\u001b[0m \u001b[0;34m=\u001b[0m \u001b[0mdict\u001b[0m\u001b[0;34m(\u001b[0m\u001b[0mself\u001b[0m\u001b[0;34m.\u001b[0m\u001b[0msymbol_map\u001b[0m\u001b[0;34m.\u001b[0m\u001b[0maliases\u001b[0m\u001b[0;34m)\u001b[0m\u001b[0;34m\u001b[0m\u001b[0;34m\u001b[0m\u001b[0m\n\u001b[1;32m   1593\u001b[0m         \u001b[0msymbol_map\u001b[0m\u001b[0;34m.\u001b[0m\u001b[0mdefault_labeler\u001b[0m \u001b[0;34m=\u001b[0m \u001b[0mself\u001b[0m\u001b[0;34m.\u001b[0m\u001b[0msymbol_map\u001b[0m\u001b[0;34m.\u001b[0m\u001b[0mdefault_labeler\u001b[0m\u001b[0;34m\u001b[0m\u001b[0;34m\u001b[0m\u001b[0m\n\u001b[0;32m-> 1594\u001b[0;31m         \u001b[0mmodel\u001b[0m\u001b[0;34m.\u001b[0m\u001b[0msolutions\u001b[0m\u001b[0;34m.\u001b[0m\u001b[0madd_symbol_map\u001b[0m\u001b[0;34m(\u001b[0m\u001b[0msymbol_map\u001b[0m\u001b[0;34m)\u001b[0m\u001b[0;34m\u001b[0m\u001b[0;34m\u001b[0m\u001b[0m\n\u001b[0m\u001b[1;32m   1595\u001b[0m         \u001b[0mlegacy_results\u001b[0m\u001b[0;34m.\u001b[0m\u001b[0m_smap_id\u001b[0m \u001b[0;34m=\u001b[0m \u001b[0mid\u001b[0m\u001b[0;34m(\u001b[0m\u001b[0msymbol_map\u001b[0m\u001b[0;34m)\u001b[0m\u001b[0;34m\u001b[0m\u001b[0;34m\u001b[0m\u001b[0m\n\u001b[1;32m   1596\u001b[0m \u001b[0;34m\u001b[0m\u001b[0m\n",
            "\u001b[0;32m/usr/local/lib/python3.10/dist-packages/pyomo/core/base/block.py\u001b[0m in \u001b[0;36m__getattr__\u001b[0;34m(self, val)\u001b[0m\n\u001b[1;32m    557\u001b[0m         \u001b[0;31m# Since the base classes don't support getattr, we can just\u001b[0m\u001b[0;34m\u001b[0m\u001b[0;34m\u001b[0m\u001b[0m\n\u001b[1;32m    558\u001b[0m         \u001b[0;31m# throw the \"normal\" AttributeError\u001b[0m\u001b[0;34m\u001b[0m\u001b[0;34m\u001b[0m\u001b[0m\n\u001b[0;32m--> 559\u001b[0;31m         raise AttributeError(\n\u001b[0m\u001b[1;32m    560\u001b[0m             \u001b[0;34m\"'%s' object has no attribute '%s'\"\u001b[0m \u001b[0;34m%\u001b[0m \u001b[0;34m(\u001b[0m\u001b[0mself\u001b[0m\u001b[0;34m.\u001b[0m\u001b[0m__class__\u001b[0m\u001b[0;34m.\u001b[0m\u001b[0m__name__\u001b[0m\u001b[0;34m,\u001b[0m \u001b[0mval\u001b[0m\u001b[0;34m)\u001b[0m\u001b[0;34m\u001b[0m\u001b[0;34m\u001b[0m\u001b[0m\n\u001b[1;32m    561\u001b[0m         )\n",
            "\u001b[0;31mAttributeError\u001b[0m: '_BlockData' object has no attribute 'solutions'"
          ]
        }
      ],
      "source": [
        "stocks = {\n",
        "    'log': {'length': 100, 'cost': 1},\n",
        "}\n",
        "\n",
        "finish = {\n",
        "    1:  {'length': 75.0, 'demand': 38},\n",
        "    2:  {'length': 75.0, 'demand': 44},\n",
        "    3:  {'length': 75.0, 'demand': 30},\n",
        "    4:  {'length': 75.0, 'demand': 41},\n",
        "    5:  {'length': 75.0, 'demand': 36},\n",
        "    6:  {'length': 53.8, 'demand': 33},\n",
        "    7:  {'length': 53.0, 'demand': 36},\n",
        "    8:  {'length': 51.0, 'demand': 41},\n",
        "    9:  {'length': 50.2, 'demand': 35},\n",
        "    10: {'length': 32.2, 'demand': 37},\n",
        "    11: {'length': 30.8, 'demand': 44},\n",
        "    12: {'length': 29.8, 'demand': 49},\n",
        "    13: {'length': 20.1, 'demand': 37},\n",
        "    14: {'length': 16.2, 'demand': 36},\n",
        "    15: {'length': 14.5, 'demand': 42},\n",
        "    16: {'length': 11.0, 'demand': 33},\n",
        "    17: {'length':  8.6, 'demand': 47},\n",
        "    18: {'length':  8.2, 'demand': 35},\n",
        "    19: {'length':  6.6, 'demand': 49},\n",
        "    20: {'length':  5.1, 'demand': 42},\n",
        "}\n",
        "\n",
        "patterns = make_patterns(stocks, finish)\n",
        "\n",
        "print(\"Testing generate_patterns_bilinear: \", end=\"\")\n",
        "%timeit generate_pattern_bilinear(stocks, finish, patterns)\n",
        "\n",
        "print(\"Testing generate_patterns_dual: \", end=\"\")\n",
        "%timeit generate_pattern_dual(stocks, finish, patterns)\n"
      ]
    },
    {
      "cell_type": "markdown",
      "metadata": {
        "id": "viq1PP8Flk9K"
      },
      "source": [
        "## A hybrid solution algorithm using pattern generation\n",
        "\n",
        "The following cell incorporates the two methods of pattern generation into a hybrid algorithm to solve the cutting stock problem. The algorithm starts with with `make_patterns` to create an initial list of patterns, then uses the linear dual to adds patterns until no new patterns are found. In phase two of the algorithm, the bilinear model is used to find additional patterns, if any, that may further reduce the objective function. There has been no exhaustive testing or attempt to compare this empirical method with others."
      ]
    },
    {
      "cell_type": "code",
      "execution_count": null,
      "metadata": {
        "id": "rp8ktK1olk9K"
      },
      "outputs": [],
      "source": [
        "def cut_stock(stocks, finish):\n",
        "    # Generate initial set of patterns\n",
        "    patterns = make_patterns(stocks, finish)\n",
        "\n",
        "    # Phase 1: Generate patterns using dual method\n",
        "    print(\"Phase 1 \", end=\".\")\n",
        "    new_pattern = generate_pattern_dual(stocks, finish, patterns)\n",
        "    while new_pattern not in patterns:\n",
        "        patterns.append(new_pattern)\n",
        "        new_pattern = generate_pattern_dual(stocks, finish, patterns)\n",
        "        print(end=\".\")\n",
        "\n",
        "    x, cost = cut_patterns(stocks, finish, patterns)\n",
        "    print(f\" Cost = {cost}\")\n",
        "\n",
        "    # Phase 2: Generate patterns using bilinear method\n",
        "    print(\"Phase 2 \", end=\".\")\n",
        "    new_pattern = generate_pattern_bilinear(stocks, finish, patterns)\n",
        "    while new_pattern not in patterns:\n",
        "        patterns.append(new_pattern)\n",
        "        new_pattern = generate_pattern_bilinear(stocks, finish, patterns)\n",
        "        print(end=\".\")\n",
        "\n",
        "    x, cost = cut_patterns(stocks, finish, patterns)\n",
        "    print(f\" Cost = {cost}\")\n",
        "\n",
        "    # Get the indices of non-zero patterns\n",
        "    non_zero_indices = [index for index, value in enumerate(x) if value > 0]\n",
        "\n",
        "    # Return only the non-zero patterns, their corresponding values, and the cost\n",
        "    return (\n",
        "        [patterns[index] for index in non_zero_indices],\n",
        "        [x[index] for index in non_zero_indices],\n",
        "        cost,\n",
        "    )\n",
        "\n",
        "\n",
        "stocks = {\n",
        "    \"A\": {\"length\": 5, \"cost\": 6},\n",
        "    \"B\": {\"length\": 6, \"cost\": 7},\n",
        "    \"C\": {\"length\": 9, \"cost\": 10},\n",
        "}\n",
        "\n",
        "finish = {\n",
        "    \"S\": {\"length\": 2, \"demand\": 20},\n",
        "    \"M\": {\"length\": 3, \"demand\": 10},\n",
        "    \"L\": {\"length\": 4, \"demand\": 20},\n",
        "}\n",
        "\n",
        "patterns, x, cost = cut_stock(stocks, finish)\n",
        "plot_nonzero_patterns(stocks, finish, patterns, x, cost)"
      ]
    },
    {
      "cell_type": "markdown",
      "metadata": {
        "id": "EMbOU7Xdlk9K"
      },
      "source": [
        "## Examples"
      ]
    },
    {
      "cell_type": "markdown",
      "metadata": {
        "id": "kXEXaTdPlk9K"
      },
      "source": [
        "### Example from JuMP documentation for column generation\n",
        "\n",
        "https://jump.dev/JuMP.jl/stable/tutorials/algorithms/cutting_stock_column_generation/#:~:text=The%20cutting%20stock%20problem%20is,while%20maximizing%20the%20total%20profit."
      ]
    },
    {
      "cell_type": "code",
      "execution_count": null,
      "metadata": {
        "id": "7it8J91Nlk9L"
      },
      "outputs": [],
      "source": [
        "stocks = {\n",
        "    \"log\": {\"length\": 100, \"cost\": 1},\n",
        "}\n",
        "\n",
        "finish = {\n",
        "    1: {\"length\": 75.0, \"demand\": 38},\n",
        "    2: {\"length\": 75.0, \"demand\": 44},\n",
        "    3: {\"length\": 75.0, \"demand\": 30},\n",
        "    4: {\"length\": 75.0, \"demand\": 41},\n",
        "    5: {\"length\": 75.0, \"demand\": 36},\n",
        "    6: {\"length\": 53.8, \"demand\": 33},\n",
        "    7: {\"length\": 53.0, \"demand\": 36},\n",
        "    8: {\"length\": 51.0, \"demand\": 41},\n",
        "    9: {\"length\": 50.2, \"demand\": 35},\n",
        "    10: {\"length\": 32.2, \"demand\": 37},\n",
        "    11: {\"length\": 30.8, \"demand\": 44},\n",
        "    12: {\"length\": 29.8, \"demand\": 49},\n",
        "    13: {\"length\": 20.1, \"demand\": 37},\n",
        "    14: {\"length\": 16.2, \"demand\": 36},\n",
        "    15: {\"length\": 14.5, \"demand\": 42},\n",
        "    16: {\"length\": 11.0, \"demand\": 33},\n",
        "    17: {\"length\": 8.6, \"demand\": 47},\n",
        "    18: {\"length\": 8.2, \"demand\": 35},\n",
        "    19: {\"length\": 6.6, \"demand\": 49},\n",
        "    20: {\"length\": 5.1, \"demand\": 42},\n",
        "}\n",
        "\n",
        "patterns, x, cost = cut_stock(stocks, finish)\n",
        "plot_nonzero_patterns(stocks, finish, patterns, x, cost)"
      ]
    },
    {
      "cell_type": "markdown",
      "metadata": {
        "id": "gaFOnAYplk9L"
      },
      "source": [
        "### Example from Wikipedia\n",
        "\n",
        "https://en.wikipedia.org/wiki/Cutting_stock_problem\n",
        "\n",
        "The minimum number of rolls is 73.0."
      ]
    },
    {
      "cell_type": "code",
      "execution_count": null,
      "metadata": {
        "id": "mkZW8ohulk9L"
      },
      "outputs": [],
      "source": [
        "stocks = {\n",
        "    \"roll\": {\"length\": 5600, \"cost\": 1},\n",
        "}\n",
        "\n",
        "finish = {\n",
        "    1380: {\"length\": 1380, \"demand\": 22},\n",
        "    1520: {\"length\": 1520, \"demand\": 25},\n",
        "    1560: {\"length\": 1560, \"demand\": 12},\n",
        "    1710: {\"length\": 1710, \"demand\": 14},\n",
        "    1820: {\"length\": 1820, \"demand\": 18},\n",
        "    1880: {\"length\": 1880, \"demand\": 18},\n",
        "    1930: {\"length\": 1930, \"demand\": 20},\n",
        "    2000: {\"length\": 2000, \"demand\": 10},\n",
        "    2050: {\"length\": 2050, \"demand\": 12},\n",
        "    2100: {\"length\": 2100, \"demand\": 14},\n",
        "    2140: {\"length\": 2140, \"demand\": 16},\n",
        "    2150: {\"length\": 2150, \"demand\": 18},\n",
        "    2200: {\"length\": 2200, \"demand\": 20},\n",
        "}\n",
        "\n",
        "patterns, x, cost = cut_stock(stocks, finish)\n",
        "plot_nonzero_patterns(stocks, finish, patterns, x, cost)"
      ]
    },
    {
      "cell_type": "markdown",
      "metadata": {
        "id": "DOmXamBBuM17"
      },
      "source": [
        "### Woodworking: Problem data from Google sheets\n",
        "\n",
        "Find a minimum cost order of 2x4 lumber to build the [\"One Arm 2x4 Outdoor Sofa\" described by Ana White](https://www.ana-white.com/woodworking-projects/one-arm-2x4-outdoor-sofa-sectional-piece).\n",
        "\n",
        "![](https://www.ana-white.com/sites/default/files/images/diy%202x4%20sectional%20single%20arm%20ana%20white%20dimensions.jpg)\n",
        "Image source: www.ana-white.com"
      ]
    },
    {
      "cell_type": "markdown",
      "metadata": {
        "id": "RbMtlRjbY7YO"
      },
      "source": [
        "Data source: https://docs.google.com/spreadsheets/d/1ZX7KJ2kwTGgyqEv_a3LOG0nQSxsc38Ykk53A7vGWAFU/edit#gid=1104632299"
      ]
    },
    {
      "cell_type": "code",
      "execution_count": null,
      "metadata": {
        "id": "BZtYAaoxDwsS"
      },
      "outputs": [],
      "source": [
        "import pandas as pd\n",
        "\n",
        "\n",
        "def read_google_sheet(sheet_id, sheet_name):\n",
        "    \"\"\"\n",
        "    Reads a Google Sheet and returns a pandas DataFrame.\n",
        "\n",
        "    This function reads a Google Sheet with the specified sheet ID and sheet name,\n",
        "    and returns a pandas DataFrame with the data. The column names are converted to\n",
        "    lowercase.\n",
        "\n",
        "    Args:\n",
        "        sheet_id (str): The Google Sheet ID.\n",
        "        sheet_name (str): The name of the sheet to read.\n",
        "\n",
        "    Returns:\n",
        "        df (pd.DataFrame): A pandas DataFrame containing the data from the Google Sheet.\n",
        "    \"\"\"\n",
        "    url = f\"https://docs.google.com/spreadsheets/d/{sheet_id}/gviz/tq?tqx=out:csv&sheet={sheet_name}\"\n",
        "    df = pd.read_csv(url)\n",
        "    df.columns = map(str.lower, df.columns)\n",
        "    return df"
      ]
    },
    {
      "cell_type": "code",
      "execution_count": null,
      "metadata": {
        "id": "s13K6p_eu5IQ"
      },
      "outputs": [],
      "source": [
        "# Google Sheet ID\n",
        "sheet_id = \"1ZX7KJ2kwTGgyqEv_a3LOG0nQSxsc38Ykk53A7vGWAFU\"\n",
        "\n",
        "# read settings\n",
        "settings_df = read_google_sheet(sheet_id, \"settings\")\n",
        "print(\"\\nSettings\")\n",
        "display(settings_df)\n",
        "\n",
        "# read parts\n",
        "finish_df = read_google_sheet(sheet_id, \"finish\")\n",
        "print(\"\\nFinish\")\n",
        "display(finish_df)\n",
        "\n",
        "# read and display stocks\n",
        "stocks_df = read_google_sheet(sheet_id, \"stocks\")\n",
        "# stocks = stocks.drop([\"price\"], axis=1)\n",
        "if not \"price\" in stocks_df.columns:\n",
        "    stocks[\"price\"] = stocks_df[\"length\"]\n",
        "print(\"\\nStocks\")\n",
        "display(stocks_df)"
      ]
    },
    {
      "cell_type": "code",
      "execution_count": null,
      "metadata": {
        "id": "c2tfCmEo3QDC"
      },
      "outputs": [],
      "source": [
        "kinds = tuple(set(finish_df[\"kind\"]))\n",
        "\n",
        "kerf = 0.25\n",
        "\n",
        "for kind in kinds:\n",
        "    print(f\"Kind = {kind}\")\n",
        "\n",
        "    finish = dict()\n",
        "    for i in finish_df.loc[finish_df[\"kind\"] == kind].index:\n",
        "        finish[finish_df.loc[i, \"label\"]] = {\n",
        "            \"length\": finish_df.loc[i, \"length\"] + kerf,\n",
        "            \"demand\": finish_df.loc[i, \"quantity\"],\n",
        "        }\n",
        "\n",
        "    stocks = dict()\n",
        "    for i in stocks_df.loc[stocks_df[\"kind\"] == kind].index:\n",
        "        stocks[stocks_df.loc[i, \"length\"]] = {\n",
        "            \"length\": stocks_df.loc[i, \"length\"] + 0 * kerf,\n",
        "            \"cost\": stocks_df.loc[i, \"price\"],\n",
        "        }\n",
        "\n",
        "    patterns, x, cost = cut_stock(stocks, finish)\n",
        "    plot_nonzero_patterns(stocks, finish, patterns, x, cost)"
      ]
    },
    {
      "cell_type": "markdown",
      "metadata": {
        "id": "72g7U_PNlk9M"
      },
      "source": [
        "Purchase List"
      ]
    },
    {
      "cell_type": "code",
      "execution_count": null,
      "metadata": {
        "id": "ZTC9_5ZOlk9M"
      },
      "outputs": [],
      "source": [
        "df = pd.DataFrame(patterns)\n",
        "df[\"cuts\"] = x\n",
        "df[\"stock\"] = df[\"stock\"].astype(str)\n",
        "df = df.pivot_table(index=\"stock\", values=\"cuts\", aggfunc=\"sum\")\n",
        "df.index = df.index.astype(int)\n",
        "df = df.sort_index()\n",
        "\n",
        "df"
      ]
    },
    {
      "cell_type": "markdown",
      "metadata": {
        "id": "LLM-1Fqm3BKd"
      },
      "source": [
        "## References\n",
        "\n",
        "The one dimensional cutting stock problem addressed in this notebook is generally attributed to two classic papers by Gilmore and Gomory. This first paper considers the more general case of stocks available in multiple lengths, while the second paper specializes to the needs of a paper trimming operation.\n",
        "\n",
        "> Gilmore, P. C., & Gomory, R. E. (1961). A linear programming approach to the cutting-stock problem. Operations research, 9(6), 849-859. [[jstor](https://www.jstor.org/stable/pdf/167051.pdf)]\n",
        "\n",
        "> Gilmore, P. C., & Gomory, R. E. (1963). A linear programming approach to the cutting stock problem—Part II. Operations research, 11(6), 863-888. [[jstor](https://www.jstor.org/stable/pdf/167827.pdf)]\n",
        "\n",
        "A useful survey of subsequent development of the cutting stock problem is given by:\n",
        "\n",
        "> Haessler, R. W., & Sweeney, P. E. (1991). Cutting stock problems and solution procedures. European Journal of Operational Research, 54(2), 141-150. [[pdf](https://deepblue.lib.umich.edu/bitstream/handle/2027.42/29128/0000167.pdf)]\n",
        "\n",
        "> Delorme, M., Iori, M., & Martello, S. (2016). Bin packing and cutting stock problems: Mathematical models and exact algorithms. European Journal of Operational Research, 255(1), 1-20. [[sciencedirect](https://www.sciencedirect.com/science/article/pii/S0377221716302491)]\n",
        "\n",
        "The solution proposed by Gilmore and Gamory has been refined over time and now generally referred to as \"column generation\". A number of tutorial implemenations are available, these are representative:\n",
        "\n",
        "> * [Mathworks/Matlab: Cutting Stock Problem](https://www.mathworks.com/help/optim/ug/cutting-stock-problem-based.html)\n",
        "* [AIMMS: Cutting Stock Problem](https://download.aimms.com/aimms/download/manuals/AIMMS3OM_CuttingStock.pdf)\n",
        "* [SCIP:Bin packing and cutting stock problems](https://scipbook.readthedocs.io/en/latest/bpp.html)\n",
        "* [PuLP: Implementation](https://github.com/coin-or/pulp/blob/master/examples/CGcolumnwise.py)\n",
        "\n",
        "More recently, the essential bilinear structure of the problem has been noted, and various convex transformations of the problem have been studied:\n",
        "\n",
        "> Harjunkoski, I., Westerlund, T., Pörn, R., & Skrifvars, H. (1998). Different transformations for solving non-convex trim-loss problems by MINLP. European Journal of Operational Research, 105(3), 594-603. [[abo.fi](http://users.abo.fi/twesterl/some-selected-papers/49.%20EJOR-IH-TW-RP-HS-1998.pdf)][[sciencedirect](https://www.sciencedirect.com/science/article/pii/S0377221797000660)]\n",
        "\n",
        "> Harjunkoski, I., Pörn, R., & Westerlund, T. (1999). Exploring the convex transformations for solving non-convex bilinear integer problems. Computers & Chemical Engineering, 23, S471-S474. [[sciencedirect](https://www.sciencedirect.com/science/article/pii/S0098135499801161)"
      ]
    },
    {
      "cell_type": "code",
      "execution_count": null,
      "metadata": {
        "id": "EJjk1imtlk9M"
      },
      "outputs": [],
      "source": []
    }
  ],
  "metadata": {
    "colab": {
      "provenance": [],
      "include_colab_link": true
    },
    "kernelspec": {
      "display_name": "Python 3 (ipykernel)",
      "language": "python",
      "name": "python3"
    },
    "language_info": {
      "codemirror_mode": {
        "name": "ipython",
        "version": 3
      },
      "file_extension": ".py",
      "mimetype": "text/x-python",
      "name": "python",
      "nbconvert_exporter": "python",
      "pygments_lexer": "ipython3",
      "version": "3.10.10"
    }
  },
  "nbformat": 4,
  "nbformat_minor": 0
}